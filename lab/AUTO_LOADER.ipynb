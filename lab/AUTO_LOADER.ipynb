{
 "cells": [
  {
   "cell_type": "markdown",
   "metadata": {
    "application/vnd.databricks.v1+cell": {
     "cellMetadata": {},
     "inputWidgets": {},
     "nuid": "4101dfae-c6db-4dbd-8a8c-11758519c02b",
     "showTitle": false,
     "tableResultSettingsMap": {},
     "title": ""
    }
   },
   "source": [
    "# Teste do Auto Loader com arquivos CDC\n",
    "\n",
    "Este exemplo utiliza o Auto Loader para ler arquivos Parquet incrementais do caminho `cdc/` no container `taxi` e carregar na tabela Delta `lab.taxi.yellow_taxi_autoloader`."
   ]
  },
  {
   "cell_type": "code",
   "execution_count": 0,
   "metadata": {
    "application/vnd.databricks.v1+cell": {
     "cellMetadata": {
      "byteLimit": 2048000,
      "implicitDf": true,
      "rowLimit": 10000
     },
     "inputWidgets": {},
     "nuid": "a4e3924a-f24d-4e94-a36c-bc84b9cbedd9",
     "showTitle": false,
     "tableResultSettingsMap": {},
     "title": ""
    }
   },
   "outputs": [],
   "source": [
    "%sql\n",
    "DROP TABLE IF EXISTS lab.taxi.yellow_taxi_autoloader "
   ]
  },
  {
   "cell_type": "code",
   "execution_count": 0,
   "metadata": {
    "application/vnd.databricks.v1+cell": {
     "cellMetadata": {
      "byteLimit": 2048000,
      "implicitDf": true,
      "rowLimit": 10000
     },
     "inputWidgets": {},
     "nuid": "67972131-4175-45ee-a445-c414e60c8d09",
     "showTitle": false,
     "tableResultSettingsMap": {},
     "title": ""
    }
   },
   "outputs": [],
   "source": [
    "%sql\n",
    "CREATE TABLE lab.taxi.yellow_taxi_autoloader (\n",
    "  tpep_pickup_datetime TIMESTAMP,\n",
    "  tpep_dropoff_datetime TIMESTAMP,\n",
    "  passenger_count DOUBLE,\n",
    "  trip_distance DOUBLE,\n",
    "  RatecodeID DOUBLE,\n",
    "  store_and_fwd_flag STRING,\n",
    "  PULocationID BIGINT,\n",
    "  DOLocationID BIGINT,\n",
    "  payment_type BIGINT,\n",
    "  fare_amount DOUBLE,\n",
    "  extra DOUBLE,\n",
    "  mta_tax DOUBLE,\n",
    "  tip_amount DOUBLE,\n",
    "  tolls_amount DOUBLE,\n",
    "  improvement_surcharge DOUBLE,\n",
    "  total_amount DOUBLE,\n",
    "  congestion_surcharge DOUBLE,\n",
    "  airport_fee DOUBLE,\n",
    "  pickup_year_month STRING,\n",
    "  ingestion_timestamp TIMESTAMP\n",
    ")\n",
    "USING DELTA\n",
    "PARTITIONED BY (pickup_year_month)"
   ]
  },
  {
   "cell_type": "code",
   "execution_count": 0,
   "metadata": {
    "application/vnd.databricks.v1+cell": {
     "cellMetadata": {
      "byteLimit": 2048000,
      "rowLimit": 10000
     },
     "inputWidgets": {},
     "nuid": "014ea82d-01e9-4e8c-918f-4a95b09779d1",
     "showTitle": false,
     "tableResultSettingsMap": {},
     "title": ""
    }
   },
   "outputs": [],
   "source": [
    "from pyspark.sql.functions import trunc, current_timestamp\n",
    "from pyspark.sql.types import StructType, StructField, IntegerType, TimestampType, DoubleType, StringType, LongType\n",
    "\n",
    "cdc_path = \"abfss://taxi@hfotaxinyc.dfs.core.windows.net/cdc/yellow\"\n",
    "\n",
    "yellow_schema = StructType([\n",
    "    StructField(\"tpep_pickup_datetime\", TimestampType(), True),\n",
    "    StructField(\"tpep_dropoff_datetime\", TimestampType(), True),\n",
    "    StructField(\"passenger_count\", DoubleType(), True),\n",
    "    StructField(\"trip_distance\", DoubleType(), True),\n",
    "    StructField(\"RatecodeID\", DoubleType(), True),\n",
    "    StructField(\"store_and_fwd_flag\", StringType(), True),\n",
    "    StructField(\"PULocationID\", LongType(), True),\n",
    "    StructField(\"DOLocationID\", LongType(), True),\n",
    "    StructField(\"payment_type\", LongType(), True),\n",
    "    StructField(\"fare_amount\", DoubleType(), True),\n",
    "    StructField(\"extra\", DoubleType(), True),\n",
    "    StructField(\"mta_tax\", DoubleType(), True),\n",
    "    StructField(\"tip_amount\", DoubleType(), True),\n",
    "    StructField(\"tolls_amount\", DoubleType(), True),\n",
    "    StructField(\"improvement_surcharge\", DoubleType(), True),\n",
    "    StructField(\"total_amount\", DoubleType(), True),\n",
    "    StructField(\"congestion_surcharge\", DoubleType(), True),\n",
    "    StructField(\"airport_fee\", DoubleType(), True),\n",
    "    StructField(\"pickup_year_month\", StringType(), True),\n",
    "    StructField(\"ingestion_timestamp\", TimestampType(), True)\n",
    "])\n",
    "\n",
    "df = (spark.readStream\n",
    "      .format(\"cloudFiles\")\n",
    "      .option(\"cloudFiles.format\", \"parquet\")\n",
    "      .schema(yellow_schema)\n",
    "      .load(cdc_path)\n",
    ")\n",
    "\n",
    "df = df.withColumn(\"pickup_year_month\", trunc(\"tpep_pickup_datetime\", \"MM\")) \\\n",
    "       .withColumn(\"ingestion_timestamp\", current_timestamp())\n",
    "\n",
    "\n",
    "(df.writeStream\n",
    " .format(\"delta\")\n",
    " .option(\"checkpointLocation\", \"/tmp/checkpoints/yellow_autoloader\")\n",
    " .option(\"mergeSchema\", \"true\")\n",
    " .partitionBy(\"pickup_year_month\")\n",
    " .table(\"lab.taxi.yellow_autoloader\")\n",
    ")"
   ]
  },
  {
   "cell_type": "code",
   "execution_count": 0,
   "metadata": {
    "application/vnd.databricks.v1+cell": {
     "cellMetadata": {
      "byteLimit": 2048000,
      "implicitDf": true,
      "rowLimit": 10000
     },
     "inputWidgets": {},
     "nuid": "f72f32a0-ffb4-4897-b9f0-69b9530ee8ba",
     "showTitle": false,
     "tableResultSettingsMap": {},
     "title": ""
    }
   },
   "outputs": [],
   "source": [
    "%sql\n",
    "SELECT COUNT(*) FROM lab.taxi.yellow_autoloader LIMIT 5\n",
    "--16330086\n",
    "--17750975\n",
    "--20942282\n",
    "--22713075"
   ]
  },
  {
   "cell_type": "code",
   "execution_count": 0,
   "metadata": {
    "application/vnd.databricks.v1+cell": {
     "cellMetadata": {
      "byteLimit": 2048000,
      "rowLimit": 10000
     },
     "inputWidgets": {},
     "nuid": "86f84125-df97-4669-b4fa-d2d8d3dd937a",
     "showTitle": false,
     "tableResultSettingsMap": {},
     "title": ""
    }
   },
   "outputs": [],
   "source": [
    "dbutils.fs.rm(\"/tmp/checkpoints/yellow_autoloader\", recurse=True)"
   ]
  },
  {
   "cell_type": "code",
   "execution_count": 0,
   "metadata": {
    "application/vnd.databricks.v1+cell": {
     "cellMetadata": {},
     "inputWidgets": {},
     "nuid": "8566ec0d-d872-44af-a37c-896040f3f32e",
     "showTitle": false,
     "tableResultSettingsMap": {},
     "title": ""
    }
   },
   "outputs": [],
   "source": []
  }
 ],
 "metadata": {
  "application/vnd.databricks.v1+notebook": {
   "computePreferences": null,
   "dashboards": [],
   "environmentMetadata": {
    "base_environment": "",
    "environment_version": "2"
   },
   "inputWidgetPreferences": null,
   "language": "python",
   "notebookMetadata": {
    "mostRecentlyExecutedCommandWithImplicitDF": {
     "commandId": 6267087982678083,
     "dataframes": [
      "_sqldf"
     ]
    },
    "pythonIndentUnit": 4
   },
   "notebookName": "AUTO_LOADER",
   "widgets": {}
  },
  "language_info": {
   "name": "python"
  }
 },
 "nbformat": 4,
 "nbformat_minor": 0
}
