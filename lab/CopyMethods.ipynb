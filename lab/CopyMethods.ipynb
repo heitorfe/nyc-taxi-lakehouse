{
 "cells": [
  {
   "cell_type": "markdown",
   "metadata": {
    "application/vnd.databricks.v1+cell": {
     "cellMetadata": {},
     "inputWidgets": {},
     "nuid": "fe482631-39ea-4015-b600-2f093a7f5810",
     "showTitle": false,
     "tableResultSettingsMap": {},
     "title": ""
    }
   },
   "source": [
    "## COPY INTO\n",
    "Copy SQL command that is idempotent.\n"
   ]
  },
  {
   "cell_type": "code",
   "execution_count": 0,
   "metadata": {
    "application/vnd.databricks.v1+cell": {
     "cellMetadata": {
      "byteLimit": 2048000,
      "implicitDf": true,
      "rowLimit": 10000
     },
     "inputWidgets": {},
     "nuid": "94ab670a-df0d-4654-813c-7fa9b53d3a8d",
     "showTitle": false,
     "tableResultSettingsMap": {},
     "title": ""
    }
   },
   "outputs": [],
   "source": [
    "%sql\n",
    "CREATE CATALOG IF NOT EXISTS lab\n",
    "MANAGED LOCATION 'abfss://taxi@hfotaxinyc.dfs.core.windows.net/lab';\n",
    "\n",
    "CREATE SCHEMA IF NOT EXISTS lab.taxi\n",
    "MANAGED LOCATION 'abfss://taxi@hfotaxinyc.dfs.core.windows.net/lab';"
   ]
  },
  {
   "cell_type": "code",
   "execution_count": 0,
   "metadata": {
    "application/vnd.databricks.v1+cell": {
     "cellMetadata": {
      "byteLimit": 2048000,
      "implicitDf": true,
      "rowLimit": 10000
     },
     "inputWidgets": {},
     "nuid": "c7684e44-5441-428a-b0f0-bb13c0296e3c",
     "showTitle": false,
     "tableResultSettingsMap": {},
     "title": ""
    }
   },
   "outputs": [],
   "source": [
    "%sql\n",
    "\n",
    "\n",
    "DROP TABLE IF EXISTS lab.taxi.yellow_copy_into;\n",
    "\n"
   ]
  },
  {
   "cell_type": "code",
   "execution_count": 0,
   "metadata": {
    "application/vnd.databricks.v1+cell": {
     "cellMetadata": {
      "byteLimit": 2048000,
      "implicitDf": true,
      "rowLimit": 10000
     },
     "inputWidgets": {},
     "nuid": "e9e5e230-b8b9-469a-a588-f168ebdd71e2",
     "showTitle": false,
     "tableResultSettingsMap": {},
     "title": ""
    }
   },
   "outputs": [],
   "source": [
    "%sql\n",
    "CREATE TABLE IF NOT EXISTS lab.taxi.yellow_copy_into (\n",
    "  VendorID INT,\n",
    "  tpep_pickup_datetime TIMESTAMP_NTZ,\n",
    "  tpep_dropoff_datetime TIMESTAMP_NTZ,\n",
    "  passenger_count BIGINT,\n",
    "  trip_distance DOUBLE,\n",
    "  RatecodeID BIGINT,\n",
    "  store_and_fwd_flag STRING,\n",
    "  PULocationID INT,\n",
    "  DOLocationID INT,\n",
    "  payment_type BIGINT,\n",
    "  fare_amount DOUBLE,\n",
    "  extra DOUBLE,\n",
    "  mta_tax DOUBLE,\n",
    "  tip_amount DOUBLE,\n",
    "  tolls_amount DOUBLE,\n",
    "  improvement_surcharge DOUBLE,\n",
    "  total_amount DOUBLE,\n",
    "  congestion_surcharge DOUBLE,\n",
    "  airport_fee DOUBLE,\n",
    "  pickup_year_month STRING\n",
    ")\n",
    "USING DELTA\n",
    "PARTITIONED BY (pickup_year_month);\n"
   ]
  },
  {
   "cell_type": "code",
   "execution_count": 0,
   "metadata": {
    "application/vnd.databricks.v1+cell": {
     "cellMetadata": {
      "byteLimit": 2048000,
      "implicitDf": true,
      "rowLimit": 10000
     },
     "inputWidgets": {},
     "nuid": "a1799e7d-0eaa-40f9-a30e-69b369e4514d",
     "showTitle": false,
     "tableResultSettingsMap": {},
     "title": ""
    }
   },
   "outputs": [],
   "source": [
    "%sql\n",
    "COPY INTO lab.taxi.yellow_copy_into\n",
    "FROM(\n",
    "    SELECT *, \n",
    "           _metadata, \n",
    "           date_format(tpep_pickup_datetime, 'yyyy-MM') AS pickup_year_month \n",
    "    FROM 'dbfs:/Volumes/raw/taxi/yellow_taxi/2024/yellow_tripdata_2024-12.parquet'\n",
    ")\n",
    "FILEFORMAT = PARQUET\n",
    "FORMAT_OPTIONS('inferSchema' = 'true')\n",
    "COPY_OPTIONS('mergeSchema' = 'true');"
   ]
  },
  {
   "cell_type": "code",
   "execution_count": 0,
   "metadata": {
    "application/vnd.databricks.v1+cell": {
     "cellMetadata": {
      "byteLimit": 2048000,
      "implicitDf": true,
      "rowLimit": 10000
     },
     "inputWidgets": {},
     "nuid": "a37c9255-148d-4ffa-9d85-d79d1ff2b50a",
     "showTitle": false,
     "tableResultSettingsMap": {},
     "title": ""
    }
   },
   "outputs": [],
   "source": [
    "%sql\n",
    "SELECT COUNT(*) FROM lab.taxi.yellow_copy_into "
   ]
  },
  {
   "cell_type": "code",
   "execution_count": 0,
   "metadata": {
    "application/vnd.databricks.v1+cell": {
     "cellMetadata": {
      "byteLimit": 2048000,
      "implicitDf": true,
      "rowLimit": 10000
     },
     "inputWidgets": {},
     "nuid": "eccc5b62-570c-45c6-8d84-dd05e35934c0",
     "showTitle": false,
     "tableResultSettingsMap": {},
     "title": ""
    }
   },
   "outputs": [],
   "source": [
    "%sql\n",
    "SELECT * FROM lab.taxi.yellow_copy_into limit 5 "
   ]
  },
  {
   "cell_type": "markdown",
   "metadata": {
    "application/vnd.databricks.v1+cell": {
     "cellMetadata": {},
     "inputWidgets": {},
     "nuid": "388b913e-104a-445b-9429-b0396d68c0a1",
     "showTitle": false,
     "tableResultSettingsMap": {},
     "title": ""
    }
   },
   "source": [
    "Test idempotency running it again"
   ]
  },
  {
   "cell_type": "markdown",
   "metadata": {
    "application/vnd.databricks.v1+cell": {
     "cellMetadata": {},
     "inputWidgets": {},
     "nuid": "b8064e21-6202-40a3-a284-9c0f541ce004",
     "showTitle": false,
     "tableResultSettingsMap": {},
     "title": ""
    }
   },
   "source": [
    "## COPY INTO com mergeSchema = true\n",
    "\n",
    "In 2023, column airport_fee was named Airport_fee. Running with and without mergeSchema to test."
   ]
  },
  {
   "cell_type": "code",
   "execution_count": 0,
   "metadata": {
    "application/vnd.databricks.v1+cell": {
     "cellMetadata": {
      "byteLimit": 2048000,
      "implicitDf": true,
      "rowLimit": 10000
     },
     "inputWidgets": {},
     "nuid": "e1a7f107-c6f8-450b-9b9f-cdfb2314901b",
     "showTitle": false,
     "tableResultSettingsMap": {},
     "title": ""
    }
   },
   "outputs": [],
   "source": [
    "%sql\n",
    "COPY INTO lab.taxi.yellow_copy_into\n",
    "FROM(\n",
    "    SELECT *, \n",
    "           _metadata, \n",
    "           date_format(tpep_pickup_datetime, 'yyyy-MM') AS pickup_year_month \n",
    "    FROM 'dbfs:/Volumes/raw/taxi/yellow_taxi/2025/yellow_tripdata_2025-01.parquet'\n",
    ")\n",
    "FILEFORMAT = PARQUET\n",
    "FORMAT_OPTIONS('inferSchema' = 'true')\n",
    "COPY_OPTIONS('mergeSchema' = 'false');"
   ]
  },
  {
   "cell_type": "code",
   "execution_count": 0,
   "metadata": {
    "application/vnd.databricks.v1+cell": {
     "cellMetadata": {
      "byteLimit": 2048000,
      "implicitDf": true,
      "rowLimit": 10000
     },
     "inputWidgets": {},
     "nuid": "f312bd8d-ffb1-4739-844e-44513f496951",
     "showTitle": false,
     "tableResultSettingsMap": {},
     "title": ""
    }
   },
   "outputs": [],
   "source": [
    "%sql\n",
    "COPY INTO lab.taxi.yellow_copy_into\n",
    "FROM(\n",
    "    SELECT *, \n",
    "           _metadata, \n",
    "           date_format(tpep_pickup_datetime, 'yyyy-MM') AS pickup_year_month \n",
    "    FROM 'dbfs:/Volumes/raw/taxi/yellow_taxi/2025/yellow_tripdata_2025-01.parquet'\n",
    ")\n",
    "FILEFORMAT = PARQUET\n",
    "FORMAT_OPTIONS('inferSchema' = 'true')\n",
    "COPY_OPTIONS('mergeSchema' = 'true');"
   ]
  },
  {
   "cell_type": "code",
   "execution_count": 0,
   "metadata": {
    "application/vnd.databricks.v1+cell": {
     "cellMetadata": {
      "byteLimit": 2048000,
      "implicitDf": true,
      "rowLimit": 10000
     },
     "inputWidgets": {},
     "nuid": "18e46a5f-c268-42a2-9ed4-d92342f7acac",
     "showTitle": false,
     "tableResultSettingsMap": {},
     "title": ""
    }
   },
   "outputs": [],
   "source": [
    "%sql\n",
    "(select cbd_congestion_fee from lab.taxi.yellow_copy_into\n",
    "where pickup_year_month = '2024-12' limit 5)\n",
    "UNION ALL\n",
    "(select cbd_congestion_fee from lab.taxi.yellow_copy_into\n",
    "where pickup_year_month = '2025-01' limit 5)"
   ]
  },
  {
   "cell_type": "markdown",
   "metadata": {
    "application/vnd.databricks.v1+cell": {
     "cellMetadata": {},
     "inputWidgets": {},
     "nuid": "3fec3fe5-f6c2-48d1-babf-caa976e4fe54",
     "showTitle": false,
     "tableResultSettingsMap": {},
     "title": ""
    }
   },
   "source": [
    "##Testing data type proble solving with COPY INTO"
   ]
  },
  {
   "cell_type": "code",
   "execution_count": 0,
   "metadata": {
    "application/vnd.databricks.v1+cell": {
     "cellMetadata": {
      "byteLimit": 2048000,
      "implicitDf": true,
      "rowLimit": 10000
     },
     "inputWidgets": {},
     "nuid": "3e3b12f9-2e33-43f8-8349-73dc0212a074",
     "showTitle": false,
     "tableResultSettingsMap": {},
     "title": ""
    }
   },
   "outputs": [],
   "source": [
    "\n",
    "%sql\n",
    "DESCRIBE TABLE lab.taxi.yellow_copy_into;\n"
   ]
  },
  {
   "cell_type": "code",
   "execution_count": 0,
   "metadata": {
    "application/vnd.databricks.v1+cell": {
     "cellMetadata": {},
     "inputWidgets": {},
     "nuid": "35bb9675-daab-48d8-ba19-c5a27a30a37d",
     "showTitle": false,
     "tableResultSettingsMap": {},
     "title": ""
    }
   },
   "outputs": [],
   "source": [
    "%sql\n",
    "DESCRIBE HISTORY lab.taxi.yellow_copy_into"
   ]
  },
  {
   "cell_type": "code",
   "execution_count": 0,
   "metadata": {
    "application/vnd.databricks.v1+cell": {
     "cellMetadata": {
      "byteLimit": 2048000,
      "implicitDf": true,
      "rowLimit": 10000
     },
     "inputWidgets": {},
     "nuid": "bd62fcc0-04be-4d2e-ac05-b2dc0e019f49",
     "showTitle": false,
     "tableResultSettingsMap": {},
     "title": ""
    }
   },
   "outputs": [],
   "source": [
    "%sql\n",
    "CREATE TABLE IF NOT EXISTS lab.taxi.yellow_taxi_data_type_problem\n",
    "(\n",
    "    VendorID TINYINT,\n",
    "  tpep_pickup_datetime TIMESTAMP_NTZ,\n",
    "  tpep_dropoff_datetime TIMESTAMP_NTZ,\n",
    "  passenger_count TINYINT,\n",
    "  trip_distance DOUBLE,\n",
    "  RatecodeID TINYINT,\n",
    "  store_and_fwd_flag STRING,\n",
    "  PULocationID SMALLINT,\n",
    "  DOLocationID SMALLINT,\n",
    "  payment_type TINYINT,\n",
    "  fare_amount DECIMAL(10, 2),\n",
    "  extra DECIMAL(7, 2),\n",
    "  mta_tax DECIMAL(5, 2),\n",
    "  tip_amount DECIMAL(12, 2),\n",
    "  tolls_amount DECIMAL(7, 2),\n",
    "  improvement_surcharge DECIMAL(3, 2),\n",
    "  total_amount DECIMAL(10, 2),\n",
    "  congestion_surcharge DECIMAL(4, 2),\n",
    "  airport_fee DECIMAL(3, 2),\n",
    "  pickup_year_month STRING\n",
    ")\n",
    "USING DELTA\n",
    "PARTITIONED BY (pickup_year_month);\n"
   ]
  },
  {
   "cell_type": "code",
   "execution_count": 0,
   "metadata": {
    "application/vnd.databricks.v1+cell": {
     "cellMetadata": {
      "byteLimit": 2048000,
      "implicitDf": true,
      "rowLimit": 10000
     },
     "inputWidgets": {},
     "nuid": "b34b5023-85d9-43ac-9f2a-c54b96e31254",
     "showTitle": false,
     "tableResultSettingsMap": {},
     "title": ""
    }
   },
   "outputs": [],
   "source": [
    "%sql\n",
    "COPY INTO lab.taxi.yellow_taxi_data_type_problem\n",
    "FROM(\n",
    "    SELECT \n",
    "      CAST(VendorID AS TINYINT) AS VendorID,\n",
    "      CAST(tpep_pickup_datetime AS TIMESTAMP_NTZ) AS tpep_pickup_datetime,\n",
    "      CAST(tpep_dropoff_datetime AS TIMESTAMP_NTZ) AS tpep_dropoff_datetime,\n",
    "      CAST(passenger_count AS TINYINT) AS passenger_count,\n",
    "      CAST(trip_distance AS DOUBLE) AS trip_distance,\n",
    "      CAST(RatecodeID AS TINYINT) AS RatecodeID,\n",
    "      CAST(store_and_fwd_flag AS STRING) AS store_and_fwd_flag,\n",
    "      CAST(PULocationID AS SMALLINT) AS PULocationID,\n",
    "      CAST(DOLocationID AS SMALLINT) AS DOLocationID,\n",
    "      CAST(payment_type AS TINYINT) AS payment_type,\n",
    "      CAST(fare_amount AS DECIMAL(10,2)) AS fare_amount,\n",
    "      CAST(extra AS DECIMAL(7,2)) AS extra,\n",
    "      CAST(mta_tax AS DECIMAL(5,2)) AS mta_tax,\n",
    "      CAST(tip_amount AS DECIMAL(12,2)) AS tip_amount,\n",
    "      CAST(tolls_amount AS DECIMAL(7,2)) AS tolls_amount,\n",
    "      CAST(improvement_surcharge AS DECIMAL(3,2)) AS improvement_surcharge,\n",
    "      CAST(total_amount AS DECIMAL(10,2)) AS total_amount,\n",
    "      CAST(congestion_surcharge AS DECIMAL(4,2)) AS congestion_surcharge,\n",
    "  airport_fee DECIMAL,\n",
    "           date_format(tpep_pickup_datetime, 'yyyy-MM') AS pickup_year_month \n",
    "    FROM 'dbfs:/Volumes/raw/taxi/yellow_taxi/2012/yellow_tripdata_2012-01.parquet'\n",
    ")\n",
    "FILEFORMAT = PARQUET\n",
    "FORMAT_OPTIONS('inferSchema' = 'true')\n",
    "COPY_OPTIONS('mergeSchema' = 'true');"
   ]
  },
  {
   "cell_type": "code",
   "execution_count": 0,
   "metadata": {
    "application/vnd.databricks.v1+cell": {
     "cellMetadata": {
      "byteLimit": 2048000,
      "rowLimit": 10000
     },
     "inputWidgets": {},
     "nuid": "33146000-71e4-4f69-888f-2210b1dafae4",
     "showTitle": false,
     "tableResultSettingsMap": {},
     "title": ""
    }
   },
   "outputs": [],
   "source": [
    "display(spark.read.format('parquet').load('/Volumes/raw/taxi/yellow_taxi/2009/yellow_tripdata_2009-01.parquet').limit(5))"
   ]
  },
  {
   "cell_type": "code",
   "execution_count": 0,
   "metadata": {
    "application/vnd.databricks.v1+cell": {
     "cellMetadata": {
      "byteLimit": 2048000,
      "implicitDf": true,
      "rowLimit": 10000
     },
     "inputWidgets": {},
     "nuid": "77ab5bf8-7200-41a3-8e0d-7388fadcb966",
     "showTitle": false,
     "tableResultSettingsMap": {},
     "title": ""
    }
   },
   "outputs": [],
   "source": [
    "%sql\n",
    "COPY INTO lab.taxi.yellow_taxi_data_type_problem\n",
    "FROM(\n",
    "    SELECT \n",
    "      CAST(VendorID AS TINYINT) AS VendorID,\n",
    "      CAST(tpep_pickup_datetime AS TIMESTAMP_NTZ) AS tpep_pickup_datetime,\n",
    "      CAST(tpep_dropoff_datetime AS TIMESTAMP_NTZ) AS tpep_dropoff_datetime,\n",
    "      CAST(passenger_count AS TINYINT) AS passenger_count,\n",
    "      CAST(trip_distance AS DOUBLE) AS trip_distance,\n",
    "      CAST(RatecodeID AS TINYINT) AS RatecodeID,\n",
    "      CAST(store_and_fwd_flag AS STRING) AS store_and_fwd_flag,\n",
    "      CAST(PULocationID AS SMALLINT) AS PULocationID,\n",
    "      CAST(DOLocationID AS SMALLINT) AS DOLocationID,\n",
    "      CAST(payment_type AS TINYINT) AS payment_type,\n",
    "      CAST(fare_amount AS DECIMAL(10,2)) AS fare_amount,\n",
    "      CAST(extra AS DECIMAL(7,2)) AS extra,\n",
    "      CAST(mta_tax AS DECIMAL(5,2)) AS mta_tax,\n",
    "      CAST(tip_amount AS DECIMAL(12,2)) AS tip_amount,\n",
    "      CAST(tolls_amount AS DECIMAL(7,2)) AS tolls_amount,\n",
    "      CAST(improvement_surcharge AS DECIMAL(3,2)) AS improvement_surcharge,\n",
    "      CAST(total_amount AS DECIMAL(10,2)) AS total_amount,\n",
    "      CAST(congestion_surcharge AS DECIMAL(4,2)) AS congestion_surcharge,\n",
    "  airport_fee DECIMAL,\n",
    "           date_format(tpep_pickup_datetime, 'yyyy-MM') AS pickup_year_month \n",
    "    FROM 'dbfs:/Volumes/raw/taxi/yellow_taxi/2012/yellow_tripdata_2012-01.parquet'\n",
    ")\n",
    "FILEFORMAT = PARQUET\n",
    "FORMAT_OPTIONS('inferSchema' = 'true')\n",
    "COPY_OPTIONS('mergeSchema' = 'true');"
   ]
  },
  {
   "cell_type": "markdown",
   "metadata": {
    "application/vnd.databricks.v1+cell": {
     "cellMetadata": {},
     "inputWidgets": {},
     "nuid": "89e5a2d7-f6a5-4ceb-a825-34b4b0bf54eb",
     "showTitle": false,
     "tableResultSettingsMap": {},
     "title": ""
    }
   },
   "source": [
    "## Clone into Delta"
   ]
  },
  {
   "cell_type": "code",
   "execution_count": 0,
   "metadata": {
    "application/vnd.databricks.v1+cell": {
     "cellMetadata": {
      "byteLimit": 2048000,
      "implicitDf": true,
      "rowLimit": 10000
     },
     "inputWidgets": {},
     "nuid": "37cd29e7-f367-4de1-9b84-d036e2b95fd8",
     "showTitle": false,
     "tableResultSettingsMap": {},
     "title": ""
    }
   },
   "outputs": [],
   "source": [
    "\n",
    "%sql\n",
    "--Necessário criar o STORAGE CREDENTIAL na UI\n",
    "CREATE EXTERNAL LOCATION IF NOT EXISTS lab_taxi_location URL\n",
    "'abfss://lab@hfotaxinyc.dfs.core.windows.net/' WITH (STORAGE CREDENTIAL taxi_credential);\n",
    "\n",
    "\n",
    "CREATE SCHEMA IF NOT EXISTS lab.taxi MANAGED LOCATION\n",
    "'abfss://lab@hfotaxinyc.dfs.core.windows.net/taxi/';\n",
    "\n",
    "CREATE EXTERNAL VOLUME IF NOT EXISTS lab.taxi.yellow_taxi_raw LOCATION\n",
    "'abfss://lab@hfotaxinyc.dfs.core.windows.net/taxi/';"
   ]
  },
  {
   "cell_type": "code",
   "execution_count": 0,
   "metadata": {
    "application/vnd.databricks.v1+cell": {
     "cellMetadata": {
      "byteLimit": 2048000,
      "implicitDf": true,
      "rowLimit": 10000
     },
     "inputWidgets": {},
     "nuid": "8b1e6729-1cb1-4bc6-8759-0e6664b35e52",
     "showTitle": false,
     "tableResultSettingsMap": {},
     "title": ""
    }
   },
   "outputs": [],
   "source": [
    "%sql\n",
    "CONVERT TO DELTA parquet.`/Volumes/lab/taxi/yellow_taxi_raw` "
   ]
  }
 ],
 "metadata": {
  "application/vnd.databricks.v1+notebook": {
   "computePreferences": null,
   "dashboards": [],
   "environmentMetadata": {
    "base_environment": "",
    "environment_version": "2"
   },
   "inputWidgetPreferences": null,
   "language": "python",
   "notebookMetadata": {
    "mostRecentlyExecutedCommandWithImplicitDF": {
     "commandId": 5327496656572470,
     "dataframes": [
      "_sqldf"
     ]
    },
    "pythonIndentUnit": 4
   },
   "notebookName": "CopyMethods",
   "widgets": {}
  },
  "language_info": {
   "name": "python"
  }
 },
 "nbformat": 4,
 "nbformat_minor": 0
}
