{
 "cells": [
  {
   "cell_type": "code",
   "execution_count": 0,
   "metadata": {
    "application/vnd.databricks.v1+cell": {
     "cellMetadata": {},
     "inputWidgets": {},
     "nuid": "7445ccf5-cf60-46f8-b948-a10b1bd4c8aa",
     "showTitle": false,
     "tableResultSettingsMap": {},
     "title": ""
    }
   },
   "outputs": [],
   "source": [
    "# Databricks notebook source\n",
    "dbutils.library.restartPython()\n",
    "\n",
    "# COMMAND ----------\n",
    "\n",
    "import tqdm\n",
    "import sys\n",
    "import datetime\n",
    "\n",
    "sys.path.insert(0, \"../lib\")\n",
    "\n",
    "from utils import *\n",
    "from ingestors import IngestorCubo\n",
    "\n",
    "\n",
    "\n",
    "# COMMAND ----------\n",
    "\n",
    "today = (spark.sql(\"SELECT MAX(dtCompra) as max_dtCompra FROM silver.taxi.yellow_taxi\").collect()[0]['max_dtCompra'])\n",
    "catalog = \"gold\"\n",
    "schema_name = 'taxi'\n",
    "\n",
    "\n",
    "try:\n",
    "    table_name = dbutils.widgets.get(\"table_name\")\n",
    "    start = dbutils.widgets.get(\"dt_start\") # now\n",
    "    stop = dbutils.widgets.get(\"dt_stop\") # now\n",
    "except:\n",
    "    start = '2018-06-01'\n",
    "    stop =  '2018-12-01'\n",
    "    table_name = 'daily_reports'\n",
    "\n",
    "if start == today.strftime('%Y-%m-%d'):\n",
    "    start = (today - datetime.timedelta(days=1)).strftime(\"%Y-%m-%d\")\n",
    "\n",
    "\n",
    "\n",
    "# COMMAND ----------\n",
    "\n",
    "ingestor = IngestorCubo(spark=spark,\n",
    "                                  catalog=catalog,\n",
    "                                  schema_name=schema_name,\n",
    "                                  table_name=table_name)\n",
    "\n",
    "ingestor.backfill(start, stop)"
   ]
  },
  {
   "cell_type": "code",
   "execution_count": 0,
   "metadata": {
    "application/vnd.databricks.v1+cell": {
     "cellMetadata": {
      "byteLimit": 2048000,
      "implicitDf": true,
      "rowLimit": 10000
     },
     "inputWidgets": {},
     "nuid": "0be72d2e-0b48-466e-9111-61372a5df858",
     "showTitle": false,
     "tableResultSettingsMap": {},
     "title": ""
    }
   },
   "outputs": [],
   "source": [
    "%sql\n",
    "SELECT *\n",
    "\n",
    " FROM silver.taxi.yellow_taxi_partitioned  limit 5\n"
   ]
  }
 ],
 "metadata": {
  "application/vnd.databricks.v1+notebook": {
   "computePreferences": null,
   "dashboards": [],
   "environmentMetadata": {
    "base_environment": "",
    "environment_version": "2"
   },
   "inputWidgetPreferences": null,
   "language": "python",
   "notebookMetadata": {
    "mostRecentlyExecutedCommandWithImplicitDF": {
     "commandId": 6009651872120861,
     "dataframes": [
      "_sqldf"
     ]
    },
    "pythonIndentUnit": 4
   },
   "notebookName": "ingestor",
   "widgets": {}
  },
  "language_info": {
   "name": "python"
  }
 },
 "nbformat": 4,
 "nbformat_minor": 0
}
