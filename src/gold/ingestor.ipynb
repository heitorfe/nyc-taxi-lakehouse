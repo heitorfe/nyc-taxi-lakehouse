{
 "cells": [
  {
   "cell_type": "code",
   "execution_count": 0,
   "metadata": {
    "application/vnd.databricks.v1+cell": {
     "cellMetadata": {},
     "inputWidgets": {},
     "nuid": "7445ccf5-cf60-46f8-b948-a10b1bd4c8aa",
     "showTitle": false,
     "tableResultSettingsMap": {},
     "title": ""
    }
   },
   "outputs": [],
   "source": [
    "# Databricks notebook source\n",
    "dbutils.library.restartPython()\n",
    "\n",
    "# COMMAND ----------\n",
    "\n",
    "import tqdm\n",
    "import sys\n",
    "import datetime\n",
    "\n",
    "sys.path.insert(0, \"../lib\")\n",
    "\n",
    "from utils import *\n",
    "from ingestors import IngestorCubo\n",
    "\n",
    "\n",
    "\n",
    "# COMMAND ----------\n",
    "\n",
    "today = (spark.sql(\"SELECT MAX(dtCompra) as max_dtCompra FROM silver.taxi.yellow_taxi\").collect()[0]['max_dtCompra'])\n",
    "catalog = \"gold\"\n",
    "schema_name = 'taxi'\n",
    "\n",
    "\n",
    "try:\n",
    "    table_name = dbutils.widgets.get(\"table_name\")\n",
    "    start = dbutils.widgets.get(\"dt_start\") # now\n",
    "    stop = dbutils.widgets.get(\"dt_stop\") # now\n",
    "except:\n",
    "    start = '2018-06-01'\n",
    "    stop =  '2018-12-01'\n",
    "    table_name = 'daily_reports'\n",
    "\n",
    "if start == today.strftime('%Y-%m-%d'):\n",
    "    start = (today - datetime.timedelta(days=1)).strftime(\"%Y-%m-%d\")\n",
    "\n",
    "\n",
    "\n",
    "# COMMAND ----------\n",
    "\n",
    "ingestor = IngestorCubo(spark=spark,\n",
    "                                  catalog=catalog,\n",
    "                                  schema_name=schema_name,\n",
    "                                  table_name=table_name)\n",
    "\n",
    "ingestor.backfill(start, stop)"
   ]
  },
  {
   "cell_type": "code",
   "execution_count": 0,
   "metadata": {
    "application/vnd.databricks.v1+cell": {
     "cellMetadata": {
      "byteLimit": 2048000,
      "implicitDf": true,
      "rowLimit": 10000
     },
     "inputWidgets": {},
     "nuid": "0be72d2e-0b48-466e-9111-61372a5df858",
     "showTitle": false,
     "tableResultSettingsMap": {},
     "title": ""
    }
   },
   "outputs": [],
   "source": [
    "%sql\n",
    "SELECT *\n",
    "\n",
    " FROM silver.taxi.yellow_taxi_partitioned  limit 5\n"
   ]
  },
  {
   "cell_type": "code",
   "execution_count": 0,
   "metadata": {
    "application/vnd.databricks.v1+cell": {
     "cellMetadata": {
      "byteLimit": 2048000,
      "implicitDf": true,
      "rowLimit": 10000
     },
     "inputWidgets": {},
     "nuid": "3b1a74f2-2b04-43ca-8141-e647cdf85520",
     "showTitle": false,
     "tableResultSettingsMap": {},
     "title": ""
    }
   },
   "outputs": [],
   "source": [
    "%sql\n",
    "WITH base AS (\n",
    "    SELECT\n",
    "        DATE(pickup_datetime) AS pickup_date,\n",
    "        trip_duration_minutes,\n",
    "        total_amount,\n",
    "        fare_amount,\n",
    "        tip_amount,\n",
    "        tolls_amount,\n",
    "        improvement_surcharge,\n",
    "        extra,\n",
    "        trip_distance_km,\n",
    "        passenger_count,\n",
    "        vendor_name,\n",
    "        pickup_location_id,\n",
    "        dropoff_location_id,\n",
    "        payment_type_id\n",
    "    FROM silver.taxi.yellow_taxi_partitioned\n",
    "    \n",
    "),\n",
    "aggregated AS (\n",
    "    SELECT\n",
    "        pickup_date,\n",
    "\n",
    "        -- Volume & receita\n",
    "        COUNT(*) AS num_trips,\n",
    "        SUM(passenger_count) AS total_passengers,\n",
    "        SUM(total_amount) AS total_revenue,\n",
    "        SUM(fare_amount) AS total_fare,\n",
    "        SUM(tip_amount) AS total_tips,\n",
    "        SUM(tolls_amount) AS total_tolls,\n",
    "        SUM(extra) AS total_extra,\n",
    "        AVG(total_amount) AS avg_total_amount,\n",
    "        PERCENTILE(total_amount, 0.5) AS median_total_amount,\n",
    "\n",
    "        -- Localidade e fornecedores\n",
    "        SUM(CASE WHEN vendor_name = 'Creative Mobile Technologies, LLC' THEN 1 ELSE 0 END) AS num_trips_cmt,\n",
    "        SUM(CASE WHEN vendor_name = 'Curb Mobility, LLC' THEN 1 ELSE 0 END) AS num_trips_curb,\n",
    "        SUM(CASE WHEN vendor_name = 'Myle Technologies Inc' THEN 1 ELSE 0 END) AS num_trips_myle,\n",
    "        SUM(CASE WHEN vendor_name = 'Helix' THEN 1 ELSE 0 END) AS num_trips_helix,\n",
    "        SUM(CASE WHEN vendor_name = 'Creative Mobile Technologies, LLC' THEN total_amount ELSE 0 END) AS total_revenue_cmt,\n",
    "        SUM(CASE WHEN vendor_name = 'Curb Mobility, LLC' THEN total_amount ELSE 0 END) AS total_revenue_curb,\n",
    "        SUM(CASE WHEN vendor_name = 'Myle Technologies Inc' THEN total_amount ELSE 0 END) AS total_revenue_myle,\n",
    "        SUM(CASE WHEN vendor_name = 'Helix' THEN total_amount ELSE 0 END) AS total_revenue_helix,\n",
    "        COUNT(DISTINCT pickup_location_id) AS distinct_pickup_locations,\n",
    "        COUNT(DISTINCT dropoff_location_id) AS distinct_dropoff_locations,\n",
    "\n",
    "        -- Eficiência\n",
    "        AVG(trip_distance_km) AS avg_trip_distance_km,\n",
    "        AVG(trip_duration_minutes) AS avg_trip_duration_min,\n",
    "        SUM(trip_distance_km) / NULLIF(SUM(trip_duration_minutes), 0) AS avg_speed_kmph,\n",
    "        SUM(total_amount) / NULLIF(SUM(trip_duration_minutes), 0) AS revenue_per_km,\n",
    "        SUM(total_amount) / NULLIF(SUM(trip_distance_km), 0) AS revenue_per_km,\n",
    "\n",
    "        -- Qualidade de serviço\n",
    "        AVG(CASE WHEN total_amount > 0 THEN tip_amount / total_amount ELSE NULL END) AS avg_tip_pct,\n",
    "        COUNT(CASE WHEN tip_amount > 0 THEN 1 END) * 1.0 / COUNT(*) AS pct_trips_with_tip,\n",
    "\n",
    "        -- Corridas por faixa de distância\n",
    "        COUNT(CASE WHEN trip_distance_km <= 1 THEN 1 END) AS short_trips,\n",
    "        COUNT(CASE WHEN trip_distance_km >= 10 THEN 1 END) AS long_trips,\n",
    "\n",
    "        -- Pagamentos\n",
    "        COUNT(DISTINCT payment_type_id) AS payment_methods_used,\n",
    "        COUNT(CASE WHEN payment_type_id = 1 THEN 1 END) AS num_credit_card,\n",
    "        COUNT(CASE WHEN payment_type_id = 2 THEN 1 END) AS num_cash,\n",
    "        COUNT(CASE WHEN payment_type_id = 3 THEN 1 END) AS num_no_charge,\n",
    "        COUNT(CASE WHEN payment_type_id = 4 THEN 1 END) AS num_dispute,\n",
    "        COUNT(CASE WHEN payment_type_id = 5 THEN 1 END) AS num_unknown,\n",
    "        COUNT(CASE WHEN payment_type_id = 6 THEN 1 END) AS num_voided,\n",
    "\n",
    "        -- Qualidade e dados faltantes\n",
    "        COUNT(CASE WHEN passenger_count = 0 THEN 1 END) AS zero_passenger_trips,\n",
    "        COUNT(CASE WHEN total_amount <= 0 THEN 1 END) AS invalid_total_trips\n",
    "\n",
    "    FROM base\n",
    "    GROUP BY pickup_date\n",
    ")\n",
    "SELECT *\n",
    "FROM aggregated\n",
    "WHERE pickup_date between '2018-01-01' and '2018-03-01'\n",
    "ORDER BY pickup_date;"
   ]
  },
  {
   "cell_type": "code",
   "execution_count": 0,
   "metadata": {
    "application/vnd.databricks.v1+cell": {
     "cellMetadata": {
      "byteLimit": 2048000,
      "implicitDf": true,
      "rowLimit": 10000
     },
     "inputWidgets": {},
     "nuid": "f694d541-d93b-44ed-ae82-3c672736ef14",
     "showTitle": false,
     "tableResultSettingsMap": {},
     "title": ""
    }
   },
   "outputs": [],
   "source": [
    "%sql\n",
    "SELECT MAX(pickup_datetime), MIN(pickup_datetime) FROM silver.taxi.yellow_taxi_partitioned"
   ]
  }
 ],
 "metadata": {
  "application/vnd.databricks.v1+notebook": {
   "computePreferences": null,
   "dashboards": [],
   "environmentMetadata": {
    "base_environment": "",
    "environment_version": "2"
   },
   "inputWidgetPreferences": null,
   "language": "python",
   "notebookMetadata": {
    "mostRecentlyExecutedCommandWithImplicitDF": {
     "commandId": 5327496656572520,
     "dataframes": [
      "_sqldf"
     ]
    },
    "pythonIndentUnit": 4
   },
   "notebookName": "ingestor",
   "widgets": {}
  },
  "language_info": {
   "name": "python"
  }
 },
 "nbformat": 4,
 "nbformat_minor": 0
}
