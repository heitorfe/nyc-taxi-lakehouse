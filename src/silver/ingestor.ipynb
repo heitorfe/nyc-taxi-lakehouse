{
 "cells": [
  {
   "cell_type": "code",
   "execution_count": 0,
   "metadata": {
    "application/vnd.databricks.v1+cell": {
     "cellMetadata": {},
     "inputWidgets": {},
     "nuid": "4e20b8f7-6480-4dcc-bcfb-2b7e9be23708",
     "showTitle": false,
     "tableResultSettingsMap": {},
     "title": ""
    }
   },
   "outputs": [],
   "source": [
    "# Databricks notebook source\n",
    "import sys\n",
    "\n",
    "sys.path.insert(0, \"../lib\")\n",
    "\n",
    "from utils import table_exists, extract_from, format_query_cdf, import_query\n",
    "\n",
    "schema_name = 'taxi'\n",
    "catalog = 'silver'\n",
    "\n",
    "table_name = 'yellow_taxi'\n",
    "\n",
    "if not table_exists(spark, catalog, schema_name, table_name):\n",
    "    query = import_query(table_name)\n",
    "    (spark.sql(query)\n",
    "        .write\n",
    "        .format(\"delta\")\n",
    "        .mode(\"overwrite\")\n",
    "        .option(\"overwriteSchema\", \"true\")\n",
    "        .saveAsTable(f\"{catalog}.{schema_name}.{table_name}\"))\n",
    "    \n",
    "else:\n",
    "    print('to do')\n",
    "    \n",
    "\n"
   ]
  },
  {
   "cell_type": "code",
   "execution_count": 0,
   "metadata": {
    "application/vnd.databricks.v1+cell": {
     "cellMetadata": {
      "byteLimit": 2048000,
      "implicitDf": true,
      "rowLimit": 10000
     },
     "inputWidgets": {},
     "nuid": "b9582482-ad41-4bca-8ff3-3ee78bdd7fed",
     "showTitle": false,
     "tableResultSettingsMap": {},
     "title": ""
    }
   },
   "outputs": [],
   "source": [
    "%sql\n",
    "SELECT\n",
    "  md5(\n",
    "    concat_ws(\n",
    "      '|',\n",
    "      CAST(VendorID AS STRING),\n",
    "      CAST(tpep_pickup_datetime AS STRING),\n",
    "      CAST(tpep_dropoff_datetime AS STRING),\n",
    "      CAST(PULocationID AS STRING),\n",
    "      CAST(DOLocationID AS STRING)\n",
    "    )\n",
    "  ) AS trip_id,\n",
    "  VendorID as vendor_id,\n",
    "  -- Tradução do código VendorID\n",
    "  CASE\n",
    "    VendorID\n",
    "    WHEN 1 THEN 'Creative Mobile Technologies, LLC'\n",
    "    WHEN 2 THEN 'Curb Mobility, LLC'\n",
    "    WHEN 6 THEN 'Myle Technologies Inc'\n",
    "    WHEN 7 THEN 'Helix'\n",
    "    ELSE 'Unknown'\n",
    "  END AS vendor_name,\n",
    "  tpep_pickup_datetime as pickup_datetime,\n",
    "  tpep_dropoff_datetime as dropoff_datetime,\n",
    "  -- Duração da viagem (em minutos)\n",
    "  ROUND(\n",
    "    (UNIX_TIMESTAMP(tpep_dropoff_datetime) - UNIX_TIMESTAMP(tpep_pickup_datetime)) / 60, 2\n",
    "  ) AS trip_duration_minutes,\n",
    "  passenger_count,\n",
    "  ROUND(trip_distance * 1.60934, 2) as trip_distance_km,\n",
    "  -- Tradução do código RatecodeID\n",
    "  CASE\n",
    "    RatecodeID\n",
    "    WHEN 1 THEN 'Standard rate'\n",
    "    WHEN 2 THEN 'JFK'\n",
    "    WHEN 3 THEN 'Newark'\n",
    "    WHEN 4 THEN 'Nassau or Westchester'\n",
    "    WHEN 5 THEN 'Negotiated fare'\n",
    "    WHEN 6 THEN 'Group ride'\n",
    "    WHEN 99 THEN 'Null/unknown'\n",
    "    ELSE 'Other'\n",
    "  END AS ratecode_description,\n",
    "  RatecodeID as ratecode_id,\n",
    "  -- Flag store_and_fwd\n",
    "  CASE\n",
    "    store_and_fwd_flag\n",
    "    WHEN 'Y' THEN 'store and forward trip'\n",
    "    WHEN 'N' THEN 'not a store and forward trip'\n",
    "    ELSE 'unknown'\n",
    "  END AS store_and_fwd_description,\n",
    "  store_and_fwd_flag,\n",
    "  PULocationID as pickup_location_id,\n",
    "  DOLocationID as dropoff_location_id,\n",
    "  -- Tradução do payment_type\n",
    "  CASE\n",
    "    payment_type\n",
    "    WHEN 0 THEN 'Flex Fare trip'\n",
    "    WHEN 1 THEN 'Credit card'\n",
    "    WHEN 2 THEN 'Cash'\n",
    "    WHEN 3 THEN 'No charge'\n",
    "    WHEN 4 THEN 'Dispute'\n",
    "    WHEN 5 THEN 'Unknown'\n",
    "    WHEN 6 THEN 'Voided trip'\n",
    "    ELSE 'Other'\n",
    "  END AS payment_type_description,\n",
    "  payment_type AS payment_type_id,\n",
    "  -- Valores financeiros\n",
    "  fare_amount,\n",
    "  extra,\n",
    "  mta_tax,\n",
    "  tip_amount,\n",
    "  tolls_amount,\n",
    "  improvement_surcharge,\n",
    "  congestion_surcharge,\n",
    "  airport_fee,\n",
    "  total_amount\n",
    "FROM\n",
    "  bronze.taxi.yellow_taxi\n",
    "WHERE\n",
    "  tpep_pickup_datetime IS NOT NULL\n",
    "  AND tpep_dropoff_datetime IS NOT NULL\n",
    "  AND trip_distance > 0\n",
    "  AND passenger_count >= 0\n",
    "  AND tpep_pickup_datetime <= GETDATE()\n",
    "  AND tpep_dropoff_datetime <= GETDATE()\n",
    "LIMIT 5;"
   ]
  },
  {
   "cell_type": "code",
   "execution_count": 0,
   "metadata": {
    "application/vnd.databricks.v1+cell": {
     "cellMetadata": {},
     "inputWidgets": {},
     "nuid": "4664830e-c1d8-40c5-bd26-02b7e8b59ace",
     "showTitle": false,
     "tableResultSettingsMap": {},
     "title": ""
    }
   },
   "outputs": [],
   "source": []
  }
 ],
 "metadata": {
  "application/vnd.databricks.v1+notebook": {
   "computePreferences": null,
   "dashboards": [],
   "environmentMetadata": {
    "base_environment": "",
    "environment_version": "2"
   },
   "inputWidgetPreferences": null,
   "language": "python",
   "notebookMetadata": {
    "mostRecentlyExecutedCommandWithImplicitDF": {
     "commandId": 5853460173647661,
     "dataframes": [
      "_sqldf"
     ]
    },
    "pythonIndentUnit": 4
   },
   "notebookName": "ingestor",
   "widgets": {}
  },
  "language_info": {
   "name": "python"
  }
 },
 "nbformat": 4,
 "nbformat_minor": 0
}
