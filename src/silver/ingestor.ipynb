{
 "cells": [
  {
   "cell_type": "code",
   "execution_count": 0,
   "metadata": {
    "application/vnd.databricks.v1+cell": {
     "cellMetadata": {
      "byteLimit": 2048000,
      "rowLimit": 10000
     },
     "inputWidgets": {},
     "nuid": "51ec5a32-bac8-484f-87cc-6582a72e40ea",
     "showTitle": false,
     "tableResultSettingsMap": {},
     "title": ""
    }
   },
   "outputs": [],
   "source": [
    "%pip install tqdm"
   ]
  },
  {
   "cell_type": "code",
   "execution_count": 0,
   "metadata": {
    "application/vnd.databricks.v1+cell": {
     "cellMetadata": {
      "byteLimit": 2048000,
      "rowLimit": 10000
     },
     "inputWidgets": {},
     "nuid": "4e20b8f7-6480-4dcc-bcfb-2b7e9be23708",
     "showTitle": false,
     "tableResultSettingsMap": {},
     "title": ""
    }
   },
   "outputs": [],
   "source": [
    "import sys\n",
    "\n",
    "sys.path.insert(0, \"../lib\")\n",
    "\n",
    "from utils import table_exists, extract_from, format_query_cdf, import_query\n",
    "from ingestors import IngestorCDF\n",
    "\n",
    "    \n",
    "schema_name = 'taxi'\n",
    "catalog = 'silver'"
   ]
  },
  {
   "cell_type": "code",
   "execution_count": 0,
   "metadata": {
    "application/vnd.databricks.v1+cell": {
     "cellMetadata": {
      "byteLimit": 2048000,
      "rowLimit": 10000
     },
     "inputWidgets": {},
     "nuid": "a8775876-bec2-445f-b86e-1eb3fb8f3bf4",
     "showTitle": false,
     "tableResultSettingsMap": {},
     "title": ""
    }
   },
   "outputs": [],
   "source": [
    "table_name = 'green_taxi'\n",
    "# Updated to use trip_id from the new Silver schema\n",
    "id_field = \"trip_id\"\n",
    "id_field_from = \"\""
   ]
  },
  {
   "cell_type": "code",
   "execution_count": 0,
   "metadata": {
    "application/vnd.databricks.v1+cell": {
     "cellMetadata": {
      "byteLimit": 2048000,
      "implicitDf": true,
      "rowLimit": 10000
     },
     "inputWidgets": {},
     "nuid": "6e09c16e-55b9-409a-abd3-6fc71af81b65",
     "showTitle": false,
     "tableResultSettingsMap": {},
     "title": ""
    }
   },
   "outputs": [],
   "source": [
    "%sql\n",
    "SELECT \n",
    "  trip_id,\n",
    "  vendor_name,\n",
    "  pickup_datetime,\n",
    "  trip_duration_minutes,\n",
    "  trip_distance_km,\n",
    "  ratecode_description,\n",
    "  payment_type_description,\n",
    "  total_amount\n",
    "FROM silver.taxi.yellow_taxi\n",
    "WHERE pickup_datetime BETWEEN '2020-01-01' AND '2020-01-02'\n",
    "LIMIT 5"
   ]
  },
  {
   "cell_type": "code",
   "execution_count": 0,
   "metadata": {
    "application/vnd.databricks.v1+cell": {
     "cellMetadata": {
      "byteLimit": 2048000,
      "rowLimit": 10000
     },
     "inputWidgets": {},
     "nuid": "b085953b-67b6-467c-a6a6-bb9e16715bee",
     "showTitle": false,
     "tableResultSettingsMap": {},
     "title": ""
    }
   },
   "outputs": [],
   "source": [
    "remove_checkpoint = False\n",
    "from pyspark.sql.functions import to_date\n",
    "\n",
    "if not table_exists(spark, catalog, schema_name, table_name):\n",
    "    print(f'Table {catalog}.{schema_name}.{table_name} does not exists. Starting full load...')\n",
    "    query = import_query(table_name)\n",
    "\n",
    "    df = spark.sql(query)\n",
    "\n",
    "    (df\n",
    "    .write\n",
    "    .format(\"delta\")\n",
    "    .mode(\"overwrite\")\n",
    "    .option(\"overwriteSchema\", \"true\")\n",
    "    .partitionBy(\"pickup_year_month\")\n",
    "    .saveAsTable(f\"{catalog}.{schema_name}.{table_name}\"))\n",
    "\n",
    "else:\n",
    "    print(f'Table {table_name} already exists. Starting CDF load...')\n",
    "\n",
    "\n",
    "# ingest = IngestorCDF(spark=spark,\n",
    "#                                catalog=catalog,\n",
    "#                                schema_name=schema_name,\n",
    "#                                table_name=table_name,\n",
    "#                                id_field=id_field,\n",
    "#                                id_field_from=id_field_from)\n",
    "\n",
    "# if remove_checkpoint:\n",
    "#     dbutils.fs.rm(ingest.checkpoint_location, True)\n",
    "\n",
    "# stream = ingest.execute()\n",
    "# print('Done')\n"
   ]
  },
  {
   "cell_type": "code",
   "execution_count": 0,
   "metadata": {
    "application/vnd.databricks.v1+cell": {
     "cellMetadata": {
      "byteLimit": 2048000,
      "implicitDf": true,
      "rowLimit": 10000
     },
     "inputWidgets": {},
     "nuid": "b9582482-ad41-4bca-8ff3-3ee78bdd7fed",
     "showTitle": false,
     "tableResultSettingsMap": {},
     "title": ""
    }
   },
   "outputs": [],
   "source": [
    "# Example of the transformation now done in Silver layer\n",
    "%sql\n",
    "SELECT\n",
    "  trip_id,\n",
    "  vendor_name,\n",
    "  pickup_datetime,\n",
    "  dropoff_datetime,\n",
    "  trip_duration_minutes,\n",
    "  passenger_count,\n",
    "  trip_distance_km, -- Already converted from miles\n",
    "  ratecode_description,\n",
    "  store_and_fwd_description,\n",
    "  pickup_location_id,\n",
    "  dropoff_location_id,\n",
    "  payment_type_description,\n",
    "  fare_amount,\n",
    "  extra,\n",
    "  mta_tax,\n",
    "  tip_amount,\n",
    "  tolls_amount,\n",
    "  improvement_surcharge,\n",
    "  congestion_surcharge,\n",
    "  airport_fee,\n",
    "  total_amount\n",
    "FROM silver.taxi.yellow_taxi\n",
    "WHERE pickup_datetime BETWEEN '2020-01-01' AND '2020-01-02'\n",
    "LIMIT 5;"
   ]
  },
  {
   "cell_type": "code",
   "execution_count": 0,
   "metadata": {
    "application/vnd.databricks.v1+cell": {
     "cellMetadata": {
      "byteLimit": 2048000,
      "implicitDf": true,
      "rowLimit": 10000
     },
     "inputWidgets": {},
     "nuid": "4664830e-c1d8-40c5-bd26-02b7e8b59ace",
     "showTitle": false,
     "tableResultSettingsMap": {},
     "title": ""
    }
   },
   "outputs": [],
   "source": [
    "# Green taxi example with new Silver schema\n",
    "%sql\n",
    "SELECT\n",
    "  trip_id,\n",
    "  vendor_name,\n",
    "  pickup_datetime,\n",
    "  dropoff_datetime,\n",
    "  trip_duration_minutes,\n",
    "  passenger_count,\n",
    "  trip_distance_km, -- Already converted from miles\n",
    "  ratecode_description,\n",
    "  store_and_fwd_description,\n",
    "  pickup_location_id,\n",
    "  dropoff_location_id,\n",
    "  payment_type_description,\n",
    "  fare_amount,\n",
    "  extra,\n",
    "  mta_tax,\n",
    "  tip_amount,\n",
    "  tolls_amount,\n",
    "  improvement_surcharge,\n",
    "  congestion_surcharge,\n",
    "  ehail_fee,\n",
    "  total_amount\n",
    "FROM silver.taxi.green_taxi\n",
    "WHERE pickup_datetime BETWEEN '2020-01-01' AND '2020-01-02'\n",
    "LIMIT 5;"
   ]
  },
  {
   "cell_type": "code",
   "execution_count": 0,
   "metadata": {
    "application/vnd.databricks.v1+cell": {
     "cellMetadata": {},
     "inputWidgets": {},
     "nuid": "84008522-1cdf-44b3-a3d3-26efc2a4b2b3",
     "showTitle": false,
     "tableResultSettingsMap": {},
     "title": ""
    }
   },
   "outputs": [],
   "source": []
  }
 ],
 "metadata": {
  "application/vnd.databricks.v1+notebook": {
   "computePreferences": null,
   "dashboards": [],
   "environmentMetadata": {
    "base_environment": "",
    "environment_version": "2"
   },
   "inputWidgetPreferences": null,
   "language": "python",
   "notebookMetadata": {
    "mostRecentlyExecutedCommandWithImplicitDF": {
     "commandId": 5367387992643058,
     "dataframes": [
      "_sqldf"
     ]
    },
    "pythonIndentUnit": 4
   },
   "notebookName": "ingestor",
   "widgets": {}
  },
  "language_info": {
   "name": "python"
  }
 },
 "nbformat": 4,
 "nbformat_minor": 0
}
