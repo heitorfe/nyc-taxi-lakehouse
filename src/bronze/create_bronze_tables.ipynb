{
 "cells": [
  {
   "cell_type": "markdown",
   "metadata": {
    "application/vnd.databricks.v1+cell": {
     "cellMetadata": {},
     "inputWidgets": {},
     "nuid": "cfcdeac6-eaa4-4892-8888-61e3b237e180",
     "showTitle": false,
     "tableResultSettingsMap": {},
     "title": ""
    }
   },
   "source": [
    "# Bronze Layer - Create Tables and Ingest Data\n",
    "This notebook creates Bronze tables with explicit schema and ingests data from 2020-2022 using COPY INTO."
   ]
  },
  {
   "cell_type": "code",
   "execution_count": 0,
   "metadata": {
    "application/vnd.databricks.v1+cell": {
     "cellMetadata": {
      "byteLimit": 2048000,
      "rowLimit": 10000
     },
     "inputWidgets": {},
     "nuid": "ce6a7559-d8ec-4a40-8086-a1ff22ab87b9",
     "showTitle": false,
     "tableResultSettingsMap": {},
     "title": ""
    }
   },
   "outputs": [],
   "source": [
    "# spark.sql(\"DROP TABLE IF EXISTS bronze.taxi.yellow_taxi PURGE\")\n",
    "# spark.sql(\"DROP TABLE IF EXISTS bronze.taxi.yellow_taxi_partitioned PURGE\")\n",
    "# spark.sql(\"DROP TABLE IF EXISTS bronze.taxi.green_taxi PURGE\")\n",
    "# spark.sql(\"DROP TABLE IF EXISTS bronze.taxi.green_taxi_partitioned PURGE\")"
   ]
  },
  {
   "cell_type": "code",
   "execution_count": 0,
   "metadata": {
    "application/vnd.databricks.v1+cell": {
     "cellMetadata": {
      "byteLimit": 2048000,
      "implicitDf": true,
      "rowLimit": 10000
     },
     "inputWidgets": {},
     "nuid": "b924b7f7-44ad-4325-a8fd-1354f4ba9077",
     "showTitle": false,
     "tableResultSettingsMap": {},
     "title": ""
    }
   },
   "outputs": [],
   "source": [
    "%sql\n",
    "\n",
    "CREATE TABLE IF NOT EXISTS bronze.taxi.yellow_taxi (\n",
    "  VendorID TINYINT COMMENT 'Taxi company identifier',\n",
    "  tpep_pickup_datetime TIMESTAMP_NTZ COMMENT 'Pickup timestamp',\n",
    "  tpep_dropoff_datetime TIMESTAMP_NTZ COMMENT 'Dropoff timestamp',\n",
    "  passenger_count TINYINT COMMENT 'Number of passengers',\n",
    "  trip_distance DOUBLE COMMENT 'Trip distance in miles',\n",
    "  RatecodeID TINYINT COMMENT 'Rate code identifier',\n",
    "  store_and_fwd_flag STRING COMMENT 'Store and forward flag',\n",
    "  PULocationID SMALLINT COMMENT 'Pickup location ID',\n",
    "  DOLocationID SMALLINT COMMENT 'Dropoff location ID',\n",
    "  payment_type TINYINT COMMENT 'Payment method identifier',\n",
    "  fare_amount DECIMAL(10, 2) COMMENT 'Base fare amount',\n",
    "  extra DECIMAL(7, 2) COMMENT 'Extra charges',\n",
    "  mta_tax DECIMAL(5, 2) COMMENT 'MTA tax',\n",
    "  tip_amount DECIMAL(12, 2) COMMENT 'Tip amount',\n",
    "  tolls_amount DECIMAL(7, 2) COMMENT 'Tolls amount',\n",
    "  improvement_surcharge DECIMAL(3, 2) COMMENT 'Improvement surcharge',\n",
    "  total_amount DECIMAL(10, 2) COMMENT 'Total trip amount',\n",
    "  congestion_surcharge DECIMAL(4, 2) COMMENT 'Congestion surcharge',\n",
    "  airport_fee DECIMAL(3, 2) COMMENT 'Airport fee',\n",
    "  pickup_year_month STRING COMMENT 'Partition column - YYYY-MM format'\n",
    ")\n",
    "USING DELTA\n",
    "PARTITIONED BY (pickup_year_month)\n",
    "COMMENT 'Bronze Yellow Taxi trip records'\n",
    "TBLPROPERTIES (\n",
    "  'delta.autoOptimize.optimizeWrite' = 'true',\n",
    "  'delta.autoOptimize.autoCompact' = 'true'\n",
    ");"
   ]
  },
  {
   "cell_type": "code",
   "execution_count": 0,
   "metadata": {
    "application/vnd.databricks.v1+cell": {
     "cellMetadata": {
      "byteLimit": 2048000,
      "implicitDf": true,
      "rowLimit": 10000
     },
     "inputWidgets": {},
     "nuid": "8810bcff-4c29-4312-a2e6-d1f6da4b11ec",
     "showTitle": false,
     "tableResultSettingsMap": {},
     "title": ""
    }
   },
   "outputs": [],
   "source": [
    "%sql\n",
    "CREATE TABLE IF NOT EXISTS bronze.taxi.green_taxi (\n",
    "  VendorID TINYINT COMMENT 'Taxi company identifier',\n",
    "  lpep_pickup_datetime TIMESTAMP_NTZ COMMENT 'Pickup timestamp',\n",
    "  lpep_dropoff_datetime TIMESTAMP_NTZ COMMENT 'Dropoff timestamp',\n",
    "  passenger_count TINYINT COMMENT 'Number of passengers',\n",
    "  trip_distance DOUBLE COMMENT 'Trip distance in miles',\n",
    "  RatecodeID TINYINT COMMENT 'Rate code identifier',\n",
    "  store_and_fwd_flag STRING COMMENT 'Store and forward flag',\n",
    "  PULocationID SMALLINT COMMENT 'Pickup location ID',\n",
    "  DOLocationID SMALLINT COMMENT 'Dropoff location ID',\n",
    "  payment_type TINYINT COMMENT 'Payment method identifier',\n",
    "  fare_amount DECIMAL(10, 2) COMMENT 'Base fare amount',\n",
    "  extra DECIMAL(7, 2) COMMENT 'Extra charges',\n",
    "  mta_tax DECIMAL(5, 2) COMMENT 'MTA tax',\n",
    "  tip_amount DECIMAL(12, 2) COMMENT 'Tip amount',\n",
    "  tolls_amount DECIMAL(7, 2) COMMENT 'Tolls amount',\n",
    "  improvement_surcharge DECIMAL(3, 2) COMMENT 'Improvement surcharge',\n",
    "  total_amount DECIMAL(10, 2) COMMENT 'Total trip amount',\n",
    "  trip_type TINYINT COMMENT 'Trip type',\n",
    "  congestion_surcharge DECIMAL(4, 2) COMMENT 'Congestion surcharge',\n",
    "  ehail_fee DECIMAL(3, 2) COMMENT 'Ehail fee',\n",
    "  pickup_year_month STRING COMMENT 'Partition column - YYYY-MM format'\n",
    ")\n",
    "USING DELTA\n",
    "PARTITIONED BY (pickup_year_month)\n",
    "COMMENT 'Bronze Green Taxi trip records'\n",
    "TBLPROPERTIES (\n",
    "  'delta.autoOptimize.optimizeWrite' = 'true',\n",
    "  'delta.autoOptimize.autoCompact' = 'true'\n",
    ");"
   ]
  },
  {
   "cell_type": "code",
   "execution_count": 0,
   "metadata": {
    "application/vnd.databricks.v1+cell": {
     "cellMetadata": {
      "byteLimit": 2048000,
      "rowLimit": 10000
     },
     "inputWidgets": {},
     "nuid": "ede59c66-ad17-405b-a6a5-4e803901cbdd",
     "showTitle": false,
     "tableResultSettingsMap": {},
     "title": ""
    }
   },
   "outputs": [],
   "source": [
    "# Function to ingest Yellow Taxi data for a specific year\n",
    "def ingest_yellow_taxi_year(year):\n",
    "    for month in range(1, 13):\n",
    "        # try:\n",
    "        query = f\"\"\"\n",
    "        COPY INTO bronze.taxi.yellow_taxi\n",
    "        FROM (\n",
    "            SELECT \n",
    "                CAST(VendorID AS TINYINT) AS VendorID,\n",
    "                CAST(tpep_pickup_datetime AS TIMESTAMP_NTZ) AS tpep_pickup_datetime,\n",
    "                CAST(tpep_dropoff_datetime AS TIMESTAMP_NTZ) AS tpep_dropoff_datetime,\n",
    "                CAST(passenger_count AS TINYINT) AS passenger_count,\n",
    "                CAST(trip_distance AS DOUBLE) AS trip_distance,\n",
    "                CAST(RatecodeID AS TINYINT) AS RatecodeID,\n",
    "                CAST(store_and_fwd_flag AS STRING) AS store_and_fwd_flag,\n",
    "                CAST(PULocationID AS SMALLINT) AS PULocationID,\n",
    "                CAST(DOLocationID AS SMALLINT) AS DOLocationID,\n",
    "                CAST(payment_type AS TINYINT) AS payment_type,\n",
    "                CAST(fare_amount AS DECIMAL(10,2)) AS fare_amount,\n",
    "                CAST(extra AS DECIMAL(7,2)) AS extra,\n",
    "                CAST(mta_tax AS DECIMAL(5,2)) AS mta_tax,\n",
    "                CAST(tip_amount AS DECIMAL(12,2)) AS tip_amount,\n",
    "                CAST(tolls_amount AS DECIMAL(7,2)) AS tolls_amount,\n",
    "                CAST(improvement_surcharge AS DECIMAL(3,2)) AS improvement_surcharge,\n",
    "                CAST(total_amount AS DECIMAL(10,2)) AS total_amount,\n",
    "                CAST(congestion_surcharge AS DECIMAL(4,2)) AS congestion_surcharge,\n",
    "                CAST(airport_fee AS DECIMAL(3,2)) AS airport_fee,\n",
    "                date_format(tpep_pickup_datetime, 'yyyy-MM') AS pickup_year_month \n",
    "            FROM '/Volumes/raw/taxi/yellow_taxi/{year}/yellow_tripdata_{year}-{month:02d}.parquet'\n",
    "           -- WHERE tpep_pickup_datetime >= '{year}-01-01' \n",
    "            --    AND tpep_pickup_datetime < '{year + 1}-01-01'\n",
    "        )\n",
    "        FILEFORMAT = PARQUET\n",
    "        FORMAT_OPTIONS('inferSchema' = 'false')\n",
    "        COPY_OPTIONS('mergeSchema' = 'true')\n",
    "        \"\"\"\n",
    "        spark.sql(query)\n",
    "        print(f\"Ingested Yellow Taxi data for {year}-{month:02d}\")\n",
    "        # except Exception as e:\n",
    "        #     print(f\"Failed to ingest Yellow Taxi data for {year}-{month:02d}: {str(e)}\")\n",
    "\n",
    "# Ingest data for years 2020-2022\n",
    "for year in [2020, 2021, 2022]:\n",
    "    print(f\"Starting ingestion for Yellow Taxi {year}\")\n",
    "    ingest_yellow_taxi_year(year)\n",
    "    print(f\"Completed ingestion for Yellow Taxi {year}\")"
   ]
  },
  {
   "cell_type": "code",
   "execution_count": 0,
   "metadata": {
    "application/vnd.databricks.v1+cell": {
     "cellMetadata": {
      "byteLimit": 2048000,
      "rowLimit": 10000
     },
     "inputWidgets": {},
     "nuid": "9838690e-484d-4856-9951-0d006b9d2178",
     "showTitle": false,
     "tableResultSettingsMap": {},
     "title": ""
    }
   },
   "outputs": [],
   "source": [
    "# Function to ingest Green Taxi data for a specific year\n",
    "def ingest_green_taxi_year(year):\n",
    "    for month in range(1, 13):\n",
    "        # try:\n",
    "        query = f\"\"\"\n",
    "        COPY INTO bronze.taxi.green_taxi\n",
    "        FROM (\n",
    "            SELECT \n",
    "                CAST(VendorID AS TINYINT) AS VendorID,\n",
    "                CAST(lpep_pickup_datetime AS TIMESTAMP_NTZ) AS lpep_pickup_datetime,\n",
    "                CAST(lpep_dropoff_datetime AS TIMESTAMP_NTZ) AS lpep_dropoff_datetime,\n",
    "                CAST(passenger_count AS TINYINT) AS passenger_count,\n",
    "                CAST(trip_distance AS DOUBLE) AS trip_distance,\n",
    "                CAST(RatecodeID AS TINYINT) AS RatecodeID,\n",
    "                CAST(store_and_fwd_flag AS STRING) AS store_and_fwd_flag,\n",
    "                CAST(PULocationID AS SMALLINT) AS PULocationID,\n",
    "                CAST(DOLocationID AS SMALLINT) AS DOLocationID,\n",
    "                CAST(payment_type AS TINYINT) AS payment_type,\n",
    "                CAST(fare_amount AS DECIMAL(10,2)) AS fare_amount,\n",
    "                CAST(extra AS DECIMAL(7,2)) AS extra,\n",
    "                CAST(mta_tax AS DECIMAL(5,2)) AS mta_tax,\n",
    "                CAST(tip_amount AS DECIMAL(12,2)) AS tip_amount,\n",
    "                CAST(tolls_amount AS DECIMAL(7,2)) AS tolls_amount,\n",
    "                CAST(improvement_surcharge AS DECIMAL(3,2)) AS improvement_surcharge,\n",
    "                CAST(total_amount AS DECIMAL(10,2)) AS total_amount,\n",
    "                CAST(trip_type AS TINYINT) AS trip_type,\n",
    "                CAST(congestion_surcharge AS DECIMAL(4,2)) AS congestion_surcharge,\n",
    "                CAST(ehail_fee AS DECIMAL(3,2)) AS ehail_fee,\n",
    "                date_format(lpep_pickup_datetime, 'yyyy-MM') AS pickup_year_month \n",
    "            FROM '/Volumes/raw/taxi/green_taxi/{year}/green_tripdata_{year}-{month:02d}.parquet'\n",
    "            --WHERE lpep_pickup_datetime >= '{year}-01-01' \n",
    "              --  AND lpep_pickup_datetime < '{year + 1}-01-01'\n",
    "        )\n",
    "        FILEFORMAT = PARQUET\n",
    "        FORMAT_OPTIONS('inferSchema' = 'false')\n",
    "        COPY_OPTIONS('mergeSchema' = 'true')\n",
    "        \"\"\"\n",
    "        spark.sql(query)\n",
    "        print(f\"Ingested Green Taxi data for {year}-{month:02d}\")\n",
    "        # except Exception as e:\n",
    "            # print(f\"Failed to ingest Green Taxi data for {year}-{month:02d}: {str(e)}\")\n",
    "\n",
    "# Ingest data for years 2020-2022\n",
    "for year in [2020, 2021, 2022]:\n",
    "    print(f\"Starting ingestion for Green Taxi {year}\")\n",
    "    ingest_green_taxi_year(year)\n",
    "    print(f\"Completed ingestion for Green Taxi {year}\")"
   ]
  },
  {
   "cell_type": "code",
   "execution_count": 0,
   "metadata": {
    "application/vnd.databricks.v1+cell": {
     "cellMetadata": {
      "byteLimit": 2048000,
      "implicitDf": true,
      "rowLimit": 10000
     },
     "inputWidgets": {},
     "nuid": "7f8ec008-bf55-49d0-87d3-61c34295626c",
     "showTitle": false,
     "tableResultSettingsMap": {},
     "title": ""
    }
   },
   "outputs": [],
   "source": [
    "%sql\n",
    "SELECT \n",
    "  'yellow_taxi' as table_name,\n",
    "  pickup_year_month,\n",
    "  COUNT(*) as record_count\n",
    "FROM bronze.taxi.yellow_taxi \n",
    "GROUP BY pickup_year_month\n",
    "ORDER BY pickup_year_month;"
   ]
  },
  {
   "cell_type": "code",
   "execution_count": 0,
   "metadata": {
    "application/vnd.databricks.v1+cell": {
     "cellMetadata": {
      "byteLimit": 2048000,
      "implicitDf": true,
      "rowLimit": 10000
     },
     "inputWidgets": {},
     "nuid": "c8d0ad3b-c4dc-42af-b5e2-68876b19fc8f",
     "showTitle": false,
     "tableResultSettingsMap": {},
     "title": ""
    }
   },
   "outputs": [],
   "source": [
    "%sql\n",
    "SELECT \n",
    "  'green_taxi' as table_name,\n",
    "  pickup_year_month,\n",
    "  COUNT(*) as record_count\n",
    "FROM bronze.taxi.green_taxi \n",
    "GROUP BY pickup_year_month\n",
    "ORDER BY pickup_year_month;"
   ]
  },
  {
   "cell_type": "code",
   "execution_count": 0,
   "metadata": {
    "application/vnd.databricks.v1+cell": {
     "cellMetadata": {
      "byteLimit": 2048000,
      "implicitDf": true,
      "rowLimit": 10000
     },
     "inputWidgets": {},
     "nuid": "1d0ab00a-7c5b-49ed-abad-3b661103ee3e",
     "showTitle": false,
     "tableResultSettingsMap": {},
     "title": ""
    }
   },
   "outputs": [],
   "source": [
    "%sql\n",
    "SELECT \n",
    "  'green_taxi' as table_name,\n",
    "  pickup_year_month,\n",
    "  COUNT(*) as record_count\n",
    "FROM bronze.taxi.green_taxi \n",
    "GROUP BY pickup_year_month\n",
    "ORDER BY pickup_year_month;"
   ]
  },
  {
   "cell_type": "code",
   "execution_count": 0,
   "metadata": {
    "application/vnd.databricks.v1+cell": {
     "cellMetadata": {},
     "inputWidgets": {},
     "nuid": "b75b4bae-f802-450c-8bfa-f6cd0e382b1e",
     "showTitle": false,
     "tableResultSettingsMap": {},
     "title": ""
    }
   },
   "outputs": [],
   "source": []
  }
 ],
 "metadata": {
  "application/vnd.databricks.v1+notebook": {
   "computePreferences": null,
   "dashboards": [],
   "environmentMetadata": null,
   "inputWidgetPreferences": null,
   "language": "python",
   "notebookMetadata": {
    "mostRecentlyExecutedCommandWithImplicitDF": {
     "commandId": 5982739159268987,
     "dataframes": [
      "_sqldf"
     ]
    },
    "pythonIndentUnit": 4
   },
   "notebookName": "create_bronze_tables",
   "widgets": {}
  },
  "language_info": {
   "name": "python"
  }
 },
 "nbformat": 4,
 "nbformat_minor": 0
}
