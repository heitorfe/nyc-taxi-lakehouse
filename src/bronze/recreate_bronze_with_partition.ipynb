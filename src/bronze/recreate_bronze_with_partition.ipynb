{
 "cells": [
  {
   "cell_type": "code",
   "execution_count": 0,
   "metadata": {
    "application/vnd.databricks.v1+cell": {
     "cellMetadata": {
      "byteLimit": 2048000,
      "implicitDf": true,
      "rowLimit": 10000
     },
     "inputWidgets": {},
     "nuid": "f3d6b82f-e1e9-4dd9-90cc-1fbc5c1ee646",
     "showTitle": false,
     "tableResultSettingsMap": {},
     "title": ""
    }
   },
   "outputs": [],
   "source": [
    "%sql\n",
    "CREATE OR REPLACE TABLE bronze.taxi.yellow_taxi_partitioned\n",
    "PARTITIONED BY (pickup_year_month)\n",
    "AS\n",
    "SELECT\n",
    "  *,\n",
    "  date_format(tpep_pickup_datetime, 'yyyy-MM') AS pickup_year_month\n",
    "FROM bronze.taxi.yellow_taxi\n",
    "WHERE tpep_pickup_datetime between '2015-01-01T00:00:00' and '2018-12-31T23:59:59'\n"
   ]
  },
  {
   "cell_type": "code",
   "execution_count": 0,
   "metadata": {
    "application/vnd.databricks.v1+cell": {
     "cellMetadata": {},
     "inputWidgets": {},
     "nuid": "2ed7f5d4-59e5-4bb6-ba1f-8714cc4d573b",
     "showTitle": false,
     "tableResultSettingsMap": {},
     "title": ""
    }
   },
   "outputs": [],
   "source": [
    "%sql\n",
    "CREATE OR REPLACE TABLE bronze.taxi.yellow_taxi_partitioned\n",
    "PARTITIONED BY (pickup_year_month)\n",
    "AS\n",
    "SELECT\n",
    "  *,\n",
    "  date_format(tpep_pickup_datetime, 'yyyy-MM') AS pickup_year_month\n",
    "FROM bronze.taxi.yellow_taxi\n",
    "WHERE tpep_pickup_datetime between '2015-01-01T00:00:00' and '2018-12-31T23:59:59'\n"
   ]
  },
  {
   "cell_type": "code",
   "execution_count": 0,
   "metadata": {
    "application/vnd.databricks.v1+cell": {
     "cellMetadata": {
      "byteLimit": 2048000,
      "implicitDf": true,
      "rowLimit": 10000
     },
     "inputWidgets": {},
     "nuid": "35c66089-32a7-427b-94f9-fadbd416d687",
     "showTitle": false,
     "tableResultSettingsMap": {},
     "title": ""
    }
   },
   "outputs": [],
   "source": [
    "%sql\n",
    "CREATE OR REPLACE TABLE bronze.taxi.green_taxi_partitioned\n",
    "PARTITIONED BY (pickup_year_month)\n",
    "AS\n",
    "SELECT\n",
    "  *,\n",
    "  date_format(lpep_pickup_datetime, 'yyyy-MM') AS pickup_year_month\n",
    "FROM bronze.taxi.green_taxi\n",
    "WHERE lpep_pickup_datetime between '2015-01-01T00:00:00' and '2018-12-31T23:59:59'\n"
   ]
  },
  {
   "cell_type": "markdown",
   "metadata": {
    "application/vnd.databricks.v1+cell": {
     "cellMetadata": {},
     "inputWidgets": {},
     "nuid": "4ca91b45-9e95-4517-8d6a-ac943c6154eb",
     "showTitle": false,
     "tableResultSettingsMap": {},
     "title": ""
    }
   },
   "source": [
    "## Add the new data"
   ]
  },
  {
   "cell_type": "code",
   "execution_count": 0,
   "metadata": {
    "application/vnd.databricks.v1+cell": {
     "cellMetadata": {
      "byteLimit": 2048000,
      "implicitDf": true,
      "rowLimit": 10000
     },
     "inputWidgets": {},
     "nuid": "ebfc6d4f-2f25-4943-b90f-b0ad7e1489c0",
     "showTitle": false,
     "tableResultSettingsMap": {},
     "title": ""
    }
   },
   "outputs": [],
   "source": [
    "%sql\n",
    "INSERT INTO bronze.taxi.yellow_taxi_partitioned\n",
    "PARTITION (pickup_year_month)\n",
    "SELECT\n",
    "  *,\n",
    "  date_format(tpep_pickup_datetime, 'yyyy-MM') AS pickup_year_month\n",
    "FROM bronze.taxi.yellow_taxi\n",
    "WHERE tpep_pickup_datetime between '2019-01-01T00:00:00' and '2020-12-31T23:59:59'"
   ]
  },
  {
   "cell_type": "code",
   "execution_count": 0,
   "metadata": {
    "application/vnd.databricks.v1+cell": {
     "cellMetadata": {
      "byteLimit": 2048000,
      "implicitDf": true,
      "rowLimit": 10000
     },
     "inputWidgets": {},
     "nuid": "cb51ace9-e7d9-4c63-97d5-05b7d4cf4d70",
     "showTitle": false,
     "tableResultSettingsMap": {},
     "title": ""
    }
   },
   "outputs": [],
   "source": [
    "%sql\n",
    "INSERT INTO bronze.taxi.yellow_taxi_partitioned\n",
    "PARTITION (pickup_year_month)\n",
    "SELECT\n",
    "  *,\n",
    "  date_format(tpep_pickup_datetime, 'yyyy-MM') AS pickup_year_month\n",
    "FROM bronze.taxi.yellow_taxi\n",
    "WHERE tpep_pickup_datetime between '2020-01-01T00:00:00' and '2021-12-31T23:59:59'"
   ]
  },
  {
   "cell_type": "code",
   "execution_count": 0,
   "metadata": {
    "application/vnd.databricks.v1+cell": {
     "cellMetadata": {
      "byteLimit": 2048000,
      "implicitDf": true,
      "rowLimit": 10000
     },
     "inputWidgets": {},
     "nuid": "374b0da3-60a3-43a5-a7e9-edd4e350efa8",
     "showTitle": false,
     "tableResultSettingsMap": {},
     "title": ""
    }
   },
   "outputs": [],
   "source": [
    "%sql\n",
    "SELECT \n",
    "  'yellow_taxi' AS table_name,\n",
    "  COUNT(*) AS total_records\n",
    "FROM bronze.taxi.yellow_taxi\n",
    "WHERE tpep_pickup_datetime between '2015-01-01T00:00:00' and '2018-12-31T23:59:59'\n",
    "UNION ALL\n",
    "SELECT \n",
    "  'yellow_taxi_partitioned' AS table_name,\n",
    "  COUNT(*) AS total_records\n",
    "FROM bronze.taxi.yellow_taxi_partitioned\n",
    "WHERE tpep_pickup_datetime between '2015-01-01T00:00:00' and '2018-12-31T23:59:59'"
   ]
  },
  {
   "cell_type": "code",
   "execution_count": 0,
   "metadata": {
    "application/vnd.databricks.v1+cell": {
     "cellMetadata": {
      "byteLimit": 2048000,
      "implicitDf": true,
      "rowLimit": 10000
     },
     "inputWidgets": {},
     "nuid": "9b2d8da2-7af4-41f6-a556-8771b8b3b024",
     "showTitle": false,
     "tableResultSettingsMap": {},
     "title": ""
    }
   },
   "outputs": [],
   "source": [
    "%sql\n",
    "SELECT \n",
    "  'yellow_taxi' AS table_name,\n",
    "  COUNT(*) AS total_records\n",
    "FROM bronze.taxi.yellow_taxi\n",
    "WHERE tpep_pickup_datetime between '2015-01-01T00:00:00' and '2018-12-31T23:59:59'\n"
   ]
  },
  {
   "cell_type": "code",
   "execution_count": 0,
   "metadata": {
    "application/vnd.databricks.v1+cell": {
     "cellMetadata": {
      "byteLimit": 2048000,
      "implicitDf": true,
      "rowLimit": 10000
     },
     "inputWidgets": {},
     "nuid": "be97d550-94c3-48a3-8ad5-cb689bf33199",
     "showTitle": false,
     "tableResultSettingsMap": {},
     "title": ""
    }
   },
   "outputs": [],
   "source": [
    "%sql\n",
    "SELECT \n",
    "  'yellow_taxi_partitioned' AS table_name,\n",
    "  COUNT(*) AS total_records\n",
    "FROM bronze.taxi.yellow_taxi_partitioned\n",
    "WHERE tpep_pickup_datetime between '2015-01-01T00:00:00' and '2018-12-31T23:59:59'"
   ]
  },
  {
   "cell_type": "code",
   "execution_count": 0,
   "metadata": {
    "application/vnd.databricks.v1+cell": {
     "cellMetadata": {},
     "inputWidgets": {},
     "nuid": "5b5b4029-d1ff-4fb8-925c-466a011340c0",
     "showTitle": false,
     "tableResultSettingsMap": {},
     "title": ""
    }
   },
   "outputs": [],
   "source": []
  }
 ],
 "metadata": {
  "application/vnd.databricks.v1+notebook": {
   "computePreferences": null,
   "dashboards": [],
   "environmentMetadata": {
    "base_environment": "",
    "environment_version": "2"
   },
   "inputWidgetPreferences": null,
   "language": "python",
   "notebookMetadata": {
    "mostRecentlyExecutedCommandWithImplicitDF": {
     "commandId": 4571671156187755,
     "dataframes": [
      "_sqldf"
     ]
    },
    "pythonIndentUnit": 4
   },
   "notebookName": "recreate_bronze_with_partition",
   "widgets": {}
  },
  "language_info": {
   "name": "python"
  }
 },
 "nbformat": 4,
 "nbformat_minor": 0
}
