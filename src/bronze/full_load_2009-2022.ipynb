{
 "cells": [
  {
   "cell_type": "markdown",
   "metadata": {
    "application/vnd.databricks.v1+cell": {
     "cellMetadata": {},
     "inputWidgets": {},
     "nuid": "ef28e438-0f9f-427d-a2a9-acdd88bf7245",
     "showTitle": false,
     "tableResultSettingsMap": {},
     "title": ""
    }
   },
   "source": [
    "## Bronze Load - Yellow Taxi"
   ]
  },
  {
   "cell_type": "code",
   "execution_count": 0,
   "metadata": {
    "application/vnd.databricks.v1+cell": {
     "cellMetadata": {
      "byteLimit": 2048000,
      "rowLimit": 10000
     },
     "inputWidgets": {},
     "nuid": "27085088-e41d-4f05-8333-4448afe6299f",
     "showTitle": false,
     "tableResultSettingsMap": {},
     "title": ""
    }
   },
   "outputs": [],
   "source": [
    "dbutils.library.restartPython()\n"
   ]
  },
  {
   "cell_type": "code",
   "execution_count": 0,
   "metadata": {
    "application/vnd.databricks.v1+cell": {
     "cellMetadata": {
      "byteLimit": 2048000,
      "rowLimit": 10000
     },
     "inputWidgets": {},
     "nuid": "37ddd96c-b271-4e06-b5a9-bc68c089b1c6",
     "showTitle": false,
     "tableResultSettingsMap": {},
     "title": ""
    }
   },
   "outputs": [],
   "source": [
    "import sys\n",
    "\n",
    "sys.path.insert(0, \"../lib/\")\n",
    "\n",
    "from utils import import_schema, export_schema, table_exists\n"
   ]
  },
  {
   "cell_type": "code",
   "execution_count": 0,
   "metadata": {
    "application/vnd.databricks.v1+cell": {
     "cellMetadata": {
      "byteLimit": 2048000,
      "rowLimit": 10000
     },
     "inputWidgets": {},
     "nuid": "1e678c8a-8338-4634-9226-d79882c1e1a5",
     "showTitle": false,
     "tableResultSettingsMap": {},
     "title": ""
    }
   },
   "outputs": [],
   "source": [
    "catalog = \"bronze\"\n",
    "schema = \"taxi\" \n",
    "table_name = \"yellow_taxi\"\n",
    "\n",
    "df_schema = import_schema(table_name)\n",
    "path = f\"/Volumes/raw/{schema}/{table_name}\"\n",
    "\n",
    "for year in range(2013, 2018):\n",
    "\n",
    "      df = (spark.read\n",
    "            .format('parquet')\n",
    "            .schema(df_schema)\n",
    "            .load(f\"{path}/{year}\"))\n",
    "      if not table_exists(spark, catalog, schema, table_name):\n",
    "\n",
    "            (df.write\n",
    "                  .format(\"delta\")\n",
    "                  .mode(\"overwrite\")\n",
    "                  .saveAsTable(f\"{catalog}.{schema}.{table_name}\"))\n",
    "      else:\n",
    "            (df.write\n",
    "                  .format(\"delta\")\n",
    "                  .mode(\"append\")\n",
    "                  .saveAsTable(f\"{catalog}.{schema}.{table_name}\"))\n",
    "\n"
   ]
  },
  {
   "cell_type": "code",
   "execution_count": 0,
   "metadata": {
    "application/vnd.databricks.v1+cell": {
     "cellMetadata": {
      "byteLimit": 2048000,
      "rowLimit": 10000
     },
     "inputWidgets": {},
     "nuid": "d3473cc6-fd7c-45e6-92b3-e8c3b34d5367",
     "showTitle": false,
     "tableResultSettingsMap": {},
     "title": ""
    }
   },
   "outputs": [],
   "source": [
    "from pyspark.sql.functions import col\n",
    "\n",
    "# year = '2020/yellow_tripdata_2020-12.parquet'\n",
    "\n",
    "for year in range(2021,2023):\n",
    "        df = (spark.read\n",
    "                .format('parquet')\n",
    "                # .option(\"mergeSchema\", \"true\")\n",
    "                .load(f\"{path}/{year}\"))\n",
    "\n",
    "        # Realiza o cast de colunas para evitar erro\n",
    "        df = (df.withColumn(\"airport_fee\", col(\"airport_fee\").cast(\"int\")))\n",
    "        df = (df.withColumn(\"congestion_surcharge\", col(\"congestion_surcharge\").cast(\"double\")))\n",
    "        df = (df.withColumn(\"passenger_count\", col(\"passenger_count\").cast(\"long\")))\n",
    "        df = (df.withColumn(\"RatecodeID\", col(\"RatecodeID\").cast(\"long\")))\n",
    "\n",
    "\n",
    "        if not table_exists(spark, catalog, schema, table_name):\n",
    "                (df.write\n",
    "                        .format(\"delta\")\n",
    "                        .mode(\"overwrite\")\n",
    "                        .saveAsTable(f\"{catalog}.{schema}.{table_name}\"))\n",
    "        else:\n",
    "                (df.write\n",
    "                        .format(\"delta\")\n",
    "                        .mode(\"append\")\n",
    "                        .saveAsTable(f\"{catalog}.{schema}.{table_name}\"))\n"
   ]
  },
  {
   "cell_type": "code",
   "execution_count": 0,
   "metadata": {
    "application/vnd.databricks.v1+cell": {
     "cellMetadata": {
      "byteLimit": 2048000,
      "implicitDf": true,
      "rowLimit": 10000
     },
     "inputWidgets": {},
     "nuid": "501d11e4-7ff6-464e-9978-2448f9ba6568",
     "showTitle": false,
     "tableResultSettingsMap": {},
     "title": ""
    }
   },
   "outputs": [],
   "source": [
    "%sql\n",
    "SELECT COUNT(*) FROM bronze.taxi.yellow_taxi \n",
    "-- 891.101.751"
   ]
  },
  {
   "cell_type": "code",
   "execution_count": 0,
   "metadata": {
    "application/vnd.databricks.v1+cell": {
     "cellMetadata": {
      "byteLimit": 2048000,
      "implicitDf": true,
      "rowLimit": 10000
     },
     "inputWidgets": {},
     "nuid": "d9960a2a-5643-49ac-84db-2cec33beb27f",
     "showTitle": false,
     "tableResultSettingsMap": {},
     "title": ""
    }
   },
   "outputs": [],
   "source": [
    "# export_schema(spark, '2017-12')\n",
    "# export_schema(spark, '2020-08')"
   ]
  }
 ],
 "metadata": {
  "application/vnd.databricks.v1+notebook": {
   "computePreferences": null,
   "dashboards": [],
   "environmentMetadata": {
    "base_environment": "",
    "environment_version": "2"
   },
   "inputWidgetPreferences": null,
   "language": "python",
   "notebookMetadata": {
    "mostRecentlyExecutedCommandWithImplicitDF": {
     "commandId": 6317235037723853,
     "dataframes": [
      "_sqldf"
     ]
    },
    "pythonIndentUnit": 4
   },
   "notebookName": "full_load_2009-2022",
   "widgets": {}
  },
  "language_info": {
   "name": "python"
  }
 },
 "nbformat": 4,
 "nbformat_minor": 0
}
