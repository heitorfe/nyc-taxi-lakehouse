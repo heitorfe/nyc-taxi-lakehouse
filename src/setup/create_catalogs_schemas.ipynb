{
 "cells": [
  {
   "cell_type": "markdown",
   "metadata": {
    "application/vnd.databricks.v1+cell": {
     "cellMetadata": {},
     "inputWidgets": {},
     "nuid": "109a1e14-fa2a-4446-a2ee-d6bd36cfda0d",
     "showTitle": false,
     "tableResultSettingsMap": {},
     "title": ""
    }
   },
   "source": [
    "# Setup - Create Catalogs and Schemas\n",
    "This notebook creates the necessary catalogs and schemas for the NYC Taxi Lakehouse following best practices."
   ]
  },
  {
   "cell_type": "code",
   "execution_count": 0,
   "metadata": {
    "application/vnd.databricks.v1+cell": {
     "cellMetadata": {
      "byteLimit": 2048000,
      "implicitDf": true,
      "rowLimit": 10000
     },
     "inputWidgets": {},
     "nuid": "29e30a65-0bda-4851-8757-fed1df05a645",
     "showTitle": false,
     "tableResultSettingsMap": {},
     "title": ""
    }
   },
   "outputs": [],
   "source": [
    "%sql\n",
    "-- Create storage credential and external location (run once)\n",
    "CREATE EXTERNAL LOCATION IF NOT EXISTS taxi_location URL\n",
    "'abfss://taxi@hfotaxinyc.dfs.core.windows.net/' WITH (STORAGE CREDENTIAL taxi_credential);"
   ]
  },
  {
   "cell_type": "code",
   "execution_count": 0,
   "metadata": {
    "application/vnd.databricks.v1+cell": {
     "cellMetadata": {
      "byteLimit": 2048000,
      "implicitDf": true,
      "rowLimit": 10000
     },
     "inputWidgets": {},
     "nuid": "65af88da-9842-4837-bb6d-32fa43ce6eb6",
     "showTitle": false,
     "tableResultSettingsMap": {},
     "title": ""
    }
   },
   "outputs": [],
   "source": [
    "%sql\n",
    "CREATE CATALOG IF NOT EXISTS bronze\n",
    "MANAGED LOCATION 'abfss://taxi@hfotaxinyc.dfs.core.windows.net/bronze'\n",
    "COMMENT 'Bronze layer - raw data ingestion';\n",
    "\n",
    "CREATE SCHEMA IF NOT EXISTS bronze.taxi \n",
    "MANAGED LOCATION 'abfss://taxi@hfotaxinyc.dfs.core.windows.net/bronze/taxi/'\n",
    "COMMENT 'Bronze taxi data tables';"
   ]
  },
  {
   "cell_type": "code",
   "execution_count": 0,
   "metadata": {
    "application/vnd.databricks.v1+cell": {
     "cellMetadata": {
      "byteLimit": 2048000,
      "implicitDf": true,
      "rowLimit": 10000
     },
     "inputWidgets": {},
     "nuid": "c430ee23-ea8e-4c64-b04e-25a30ed3abd2",
     "showTitle": false,
     "tableResultSettingsMap": {},
     "title": ""
    }
   },
   "outputs": [],
   "source": [
    "%sql\n",
    "CREATE CATALOG IF NOT EXISTS silver\n",
    "MANAGED LOCATION 'abfss://taxi@hfotaxinyc.dfs.core.windows.net/silver'\n",
    "COMMENT 'Silver layer - cleaned and standardized data';\n",
    "\n",
    "CREATE SCHEMA IF NOT EXISTS silver.taxi \n",
    "MANAGED LOCATION 'abfss://taxi@hfotaxinyc.dfs.core.windows.net/silver/taxi/'\n",
    "COMMENT 'Silver taxi data tables';"
   ]
  },
  {
   "cell_type": "code",
   "execution_count": 0,
   "metadata": {
    "application/vnd.databricks.v1+cell": {
     "cellMetadata": {
      "byteLimit": 2048000,
      "implicitDf": true,
      "rowLimit": 10000
     },
     "inputWidgets": {},
     "nuid": "a7d8f585-d224-4c02-b4b2-473f5cdd8400",
     "showTitle": false,
     "tableResultSettingsMap": {},
     "title": ""
    }
   },
   "outputs": [],
   "source": [
    "%sql\n",
    "CREATE CATALOG IF NOT EXISTS gold\n",
    "MANAGED LOCATION 'abfss://taxi@hfotaxinyc.dfs.core.windows.net/gold'\n",
    "COMMENT 'Gold layer - business-ready aggregated data';\n",
    "\n",
    "CREATE SCHEMA IF NOT EXISTS gold.taxi \n",
    "MANAGED LOCATION 'abfss://taxi@hfotaxinyc.dfs.core.windows.net/gold/taxi/'\n",
    "COMMENT 'Gold taxi analytics tables';"
   ]
  },
  {
   "cell_type": "code",
   "execution_count": 0,
   "metadata": {
    "application/vnd.databricks.v1+cell": {
     "cellMetadata": {
      "byteLimit": 2048000,
      "implicitDf": true,
      "rowLimit": 10000
     },
     "inputWidgets": {},
     "nuid": "27d780dd-f6b7-4c73-9c95-431b894bc10f",
     "showTitle": false,
     "tableResultSettingsMap": {},
     "title": ""
    }
   },
   "outputs": [],
   "source": [
    "%sql\n",
    "SHOW CATALOGS;"
   ]
  },
  {
   "cell_type": "code",
   "execution_count": 0,
   "metadata": {
    "application/vnd.databricks.v1+cell": {
     "cellMetadata": {
      "byteLimit": 2048000,
      "implicitDf": true,
      "rowLimit": 10000
     },
     "inputWidgets": {},
     "nuid": "bc36e3df-b236-4044-9485-767bcb821124",
     "showTitle": false,
     "tableResultSettingsMap": {},
     "title": ""
    }
   },
   "outputs": [],
   "source": [
    "%sql\n",
    "SHOW SCHEMAS IN bronze;"
   ]
  },
  {
   "cell_type": "code",
   "execution_count": 0,
   "metadata": {
    "application/vnd.databricks.v1+cell": {
     "cellMetadata": {
      "byteLimit": 2048000,
      "implicitDf": true,
      "rowLimit": 10000
     },
     "inputWidgets": {},
     "nuid": "e5986d92-2e74-4c32-a91b-f2cc52b6705e",
     "showTitle": false,
     "tableResultSettingsMap": {},
     "title": ""
    }
   },
   "outputs": [],
   "source": [
    "%sql\n",
    "SHOW SCHEMAS IN bronze;"
   ]
  }
 ],
 "metadata": {
  "application/vnd.databricks.v1+notebook": {
   "computePreferences": null,
   "dashboards": [],
   "environmentMetadata": null,
   "inputWidgetPreferences": null,
   "language": "python",
   "notebookMetadata": {
    "mostRecentlyExecutedCommandWithImplicitDF": {
     "commandId": 5982739159268978,
     "dataframes": [
      "_sqldf"
     ]
    },
    "pythonIndentUnit": 4
   },
   "notebookName": "create_catalogs_schemas",
   "widgets": {}
  },
  "language_info": {
   "name": "python"
  }
 },
 "nbformat": 4,
 "nbformat_minor": 0
}
