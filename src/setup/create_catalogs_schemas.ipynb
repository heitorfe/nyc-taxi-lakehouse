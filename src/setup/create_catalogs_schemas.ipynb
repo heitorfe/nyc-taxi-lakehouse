{
 "cells": [
  {
   "cell_type": "markdown",
   "id": "dc237b20",
   "metadata": {},
   "source": [
    "# Setup - Create Catalogs and Schemas\n",
    "This notebook creates the necessary catalogs and schemas for the NYC Taxi Lakehouse following best practices."
   ]
  },
  {
   "cell_type": "code",
   "execution_count": null,
   "id": "4a276560",
   "metadata": {},
   "outputs": [],
   "source": [
    "# Create storage credential and external location (run once)\n",
    "%sql\n",
    "CREATE EXTERNAL LOCATION IF NOT EXISTS taxi_location URL\n",
    "'abfss://taxi@hfotaxinyc.dfs.core.windows.net/' WITH (STORAGE CREDENTIAL taxi_credential);"
   ]
  },
  {
   "cell_type": "code",
   "execution_count": null,
   "id": "53234884",
   "metadata": {},
   "outputs": [],
   "source": [
    "# Create Bronze catalog and schema\n",
    "%sql\n",
    "CREATE CATALOG IF NOT EXISTS bronze\n",
    "MANAGED LOCATION 'abfss://taxi@hfotaxinyc.dfs.core.windows.net/bronze'\n",
    "COMMENT 'Bronze layer - raw data ingestion';\n",
    "\n",
    "CREATE SCHEMA IF NOT EXISTS bronze.taxi \n",
    "MANAGED LOCATION 'abfss://taxi@hfotaxinyc.dfs.core.windows.net/bronze/taxi/'\n",
    "COMMENT 'Bronze taxi data tables';"
   ]
  },
  {
   "cell_type": "code",
   "execution_count": null,
   "id": "7b7bb519",
   "metadata": {},
   "outputs": [],
   "source": [
    "# Create Silver catalog and schema\n",
    "%sql\n",
    "CREATE CATALOG IF NOT EXISTS silver\n",
    "MANAGED LOCATION 'abfss://taxi@hfotaxinyc.dfs.core.windows.net/silver'\n",
    "COMMENT 'Silver layer - cleaned and standardized data';\n",
    "\n",
    "CREATE SCHEMA IF NOT EXISTS silver.taxi \n",
    "MANAGED LOCATION 'abfss://taxi@hfotaxinyc.dfs.core.windows.net/silver/taxi/'\n",
    "COMMENT 'Silver taxi data tables';"
   ]
  },
  {
   "cell_type": "code",
   "execution_count": null,
   "id": "8c358f7e",
   "metadata": {},
   "outputs": [],
   "source": [
    "# Create Gold catalog and schema\n",
    "%sql\n",
    "CREATE CATALOG IF NOT EXISTS gold\n",
    "MANAGED LOCATION 'abfss://taxi@hfotaxinyc.dfs.core.windows.net/gold'\n",
    "COMMENT 'Gold layer - business-ready aggregated data';\n",
    "\n",
    "CREATE SCHEMA IF NOT EXISTS gold.taxi \n",
    "MANAGED LOCATION 'abfss://taxi@hfotaxinyc.dfs.core.windows.net/gold/taxi/'\n",
    "COMMENT 'Gold taxi analytics tables';"
   ]
  },
  {
   "cell_type": "code",
   "execution_count": null,
   "id": "fbbc0ef1",
   "metadata": {},
   "outputs": [],
   "source": [
    "# Verify catalogs and schemas creation\n",
    "%sql\n",
    "SHOW CATALOGS;"
   ]
  },
  {
   "cell_type": "code",
   "execution_count": null,
   "id": "e66069f9",
   "metadata": {},
   "outputs": [],
   "source": [
    "%sql\n",
    "SHOW SCHEMAS IN bronze;"
   ]
  },
  {
   "cell_type": "code",
   "execution_count": null,
   "metadata": {},
   "outputs": [],
   "source": [
    "%sql\n",
    "SHOW SCHEMAS IN bronze;"
   ]
  }
 ],
 "metadata": {
  "language_info": {
   "name": "python"
  }
 },
 "nbformat": 4,
 "nbformat_minor": 5
}
