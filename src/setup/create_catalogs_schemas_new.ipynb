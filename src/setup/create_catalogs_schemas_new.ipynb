{
 "cells": [
  {
   "cell_type": "markdown",
   "metadata": {
    "application/vnd.databricks.v1+cell": {
     "cellMetadata": {},
     "inputWidgets": {},
     "nuid": "109a1e14-fa2a-4446-a2ee-d6bd36cfda0d",
     "showTitle": false,
     "tableResultSettingsMap": {},
     "title": ""
    }
   },
   "source": [
    "# Setup - Create Catalogs, Schemas, Volume and Tables\n",
    "This notebook creates the complete NYC Taxi Lakehouse structure including:\n",
    "- Dev catalog\n",
    "- Taxi schema\n",
    "- Raw volume\n",
    "- Bronze and Silver tables for yellow and green taxi data"
   ]
  },
  {
   "cell_type": "code",
   "execution_count": 0,
   "metadata": {
    "application/vnd.databricks.v1+cell": {
     "cellMetadata": {
      "byteLimit": 2048000,
      "implicitDf": true,
      "rowLimit": 10000
     },
     "inputWidgets": {},
     "nuid": "29e30a65-0bda-4851-8757-fed1df05a645",
     "showTitle": false,
     "tableResultSettingsMap": {},
     "title": ""
    }
   },
   "outputs": [],
   "source": [
    "%sql\n",
    "-- Create storage credential and external location (run once)\n",
    "CREATE EXTERNAL LOCATION IF NOT EXISTS taxi_location URL\n",
    "'abfss://taxi@hfotaxinyc.dfs.core.windows.net/' WITH (STORAGE CREDENTIAL taxi_credential);"
   ]
  },
  {
   "cell_type": "code",
   "execution_count": null,
   "metadata": {},
   "outputs": [],
   "source": [
    "%sql\n",
    "-- Create dev catalog\n",
    "CREATE CATALOG IF NOT EXISTS dev\n",
    "COMMENT 'Development catalog for taxi data lakehouse';\n",
    "\n",
    "-- Use the dev catalog\n",
    "USE CATALOG dev;"
   ]
  },
  {
   "cell_type": "code",
   "execution_count": null,
   "metadata": {},
   "outputs": [],
   "source": [
    "%sql\n",
    "-- Create taxi schema\n",
    "CREATE SCHEMA IF NOT EXISTS taxi\n",
    "COMMENT 'Schema for NYC taxi data processing pipeline';\n",
    "\n",
    "-- Use the taxi schema\n",
    "USE SCHEMA taxi;"
   ]
  },
  {
   "cell_type": "code",
   "execution_count": null,
   "metadata": {},
   "outputs": [],
   "source": [
    "%sql\n",
    "-- Create volume for raw data\n",
    "CREATE VOLUME IF NOT EXISTS raw\n",
    "LOCATION 'abfss://taxi@hfotaxinyc.dfs.core.windows.net/raw'\n",
    "COMMENT 'Volume for raw taxi data files from Azure storage';"
   ]
  },
  {
   "cell_type": "markdown",
   "metadata": {},
   "source": [
    "## Bronze Layer Tables\n",
    "Raw data ingestion tables with metadata for data lineage"
   ]
  },
  {
   "cell_type": "code",
   "execution_count": null,
   "metadata": {},
   "outputs": [],
   "source": [
    "%sql\n",
    "-- Bronze Yellow Taxi table\n",
    "CREATE TABLE IF NOT EXISTS bronze_yellow_taxi (\n",
    "    VendorID INT,\n",
    "    tpep_pickup_datetime TIMESTAMP,\n",
    "    tpep_dropoff_datetime TIMESTAMP,\n",
    "    passenger_count DOUBLE,\n",
    "    trip_distance DOUBLE,\n",
    "    RatecodeID DOUBLE,\n",
    "    store_and_fwd_flag STRING,\n",
    "    PULocationID INT,\n",
    "    DOLocationID INT,\n",
    "    payment_type INT,\n",
    "    fare_amount DOUBLE,\n",
    "    extra DOUBLE,\n",
    "    mta_tax DOUBLE,\n",
    "    tip_amount DOUBLE,\n",
    "    tolls_amount DOUBLE,\n",
    "    improvement_surcharge DOUBLE,\n",
    "    total_amount DOUBLE,\n",
    "    congestion_surcharge DOUBLE,\n",
    "    airport_fee DOUBLE,\n",
    "    -- Metadata columns for data lineage\n",
    "    _source_file STRING,\n",
    "    _ingestion_timestamp TIMESTAMP,\n",
    "    _processing_date DATE\n",
    ")\n",
    "USING DELTA\n",
    "PARTITIONED BY (_processing_date)\n",
    "LOCATION 'abfss://taxi@hfotaxinyc.dfs.core.windows.net/bronze/yellow_taxi'\n",
    "COMMENT 'Bronze layer table for raw yellow taxi trip records';"
   ]
  },
  {
   "cell_type": "code",
   "execution_count": null,
   "metadata": {},
   "outputs": [],
   "source": [
    "%sql\n",
    "-- Bronze Green Taxi table\n",
    "CREATE TABLE IF NOT EXISTS bronze_green_taxi (\n",
    "    VendorID INT,\n",
    "    lpep_pickup_datetime TIMESTAMP,\n",
    "    lpep_dropoff_datetime TIMESTAMP,\n",
    "    store_and_fwd_flag STRING,\n",
    "    RatecodeID DOUBLE,\n",
    "    PULocationID INT,\n",
    "    DOLocationID INT,\n",
    "    passenger_count DOUBLE,\n",
    "    trip_distance DOUBLE,\n",
    "    fare_amount DOUBLE,\n",
    "    extra DOUBLE,\n",
    "    mta_tax DOUBLE,\n",
    "    tip_amount DOUBLE,\n",
    "    tolls_amount DOUBLE,\n",
    "    ehail_fee DOUBLE,\n",
    "    improvement_surcharge DOUBLE,\n",
    "    total_amount DOUBLE,\n",
    "    payment_type INT,\n",
    "    trip_type INT,\n",
    "    congestion_surcharge DOUBLE,\n",
    "    -- Metadata columns for data lineage\n",
    "    _source_file STRING,\n",
    "    _ingestion_timestamp TIMESTAMP,\n",
    "    _processing_date DATE\n",
    ")\n",
    "USING DELTA\n",
    "PARTITIONED BY (_processing_date)\n",
    "LOCATION 'abfss://taxi@hfotaxinyc.dfs.core.windows.net/bronze/green_taxi'\n",
    "COMMENT 'Bronze layer table for raw green taxi trip records';"
   ]
  },
  {
   "cell_type": "markdown",
   "metadata": {},
   "source": [
    "## Silver Layer Tables\n",
    "Cleaned and validated data with data quality metrics"
   ]
  },
  {
   "cell_type": "code",
   "execution_count": null,
   "metadata": {},
   "outputs": [],
   "source": [
    "%sql\n",
    "-- Silver Yellow Taxi table\n",
    "CREATE TABLE IF NOT EXISTS silver_yellow_taxi (\n",
    "    trip_id STRING,\n",
    "    vendor_id INT,\n",
    "    pickup_datetime TIMESTAMP,\n",
    "    dropoff_datetime TIMESTAMP,\n",
    "    passenger_count INT,\n",
    "    trip_distance DECIMAL(10,2),\n",
    "    ratecode_id INT,\n",
    "    store_and_fwd_flag BOOLEAN,\n",
    "    pickup_location_id INT,\n",
    "    dropoff_location_id INT,\n",
    "    payment_type_id INT,\n",
    "    fare_amount DECIMAL(10,2),\n",
    "    extra DECIMAL(10,2),\n",
    "    mta_tax DECIMAL(10,2),\n",
    "    tip_amount DECIMAL(10,2),\n",
    "    tolls_amount DECIMAL(10,2),\n",
    "    improvement_surcharge DECIMAL(10,2),\n",
    "    total_amount DECIMAL(10,2),\n",
    "    congestion_surcharge DECIMAL(10,2),\n",
    "    airport_fee DECIMAL(10,2),\n",
    "    trip_duration_minutes INT,\n",
    "    trip_speed_mph DECIMAL(10,2),\n",
    "    -- Data quality flags\n",
    "    is_valid_trip BOOLEAN,\n",
    "    data_quality_score DECIMAL(3,2),\n",
    "    -- Metadata columns\n",
    "    processing_timestamp TIMESTAMP,\n",
    "    processing_date DATE\n",
    ")\n",
    "USING DELTA\n",
    "PARTITIONED BY (processing_date)\n",
    "LOCATION 'abfss://taxi@hfotaxinyc.dfs.core.windows.net/silver/yellow_taxi'\n",
    "COMMENT 'Silver layer table for cleaned and validated yellow taxi trip records';"
   ]
  },
  {
   "cell_type": "code",
   "execution_count": null,
   "metadata": {},
   "outputs": [],
   "source": [
    "%sql\n",
    "-- Silver Green Taxi table\n",
    "CREATE TABLE IF NOT EXISTS silver_green_taxi (\n",
    "    trip_id STRING,\n",
    "    vendor_id INT,\n",
    "    pickup_datetime TIMESTAMP,\n",
    "    dropoff_datetime TIMESTAMP,\n",
    "    store_and_fwd_flag BOOLEAN,\n",
    "    ratecode_id INT,\n",
    "    pickup_location_id INT,\n",
    "    dropoff_location_id INT,\n",
    "    passenger_count INT,\n",
    "    trip_distance DECIMAL(10,2),\n",
    "    fare_amount DECIMAL(10,2),\n",
    "    extra DECIMAL(10,2),\n",
    "    mta_tax DECIMAL(10,2),\n",
    "    tip_amount DECIMAL(10,2),\n",
    "    tolls_amount DECIMAL(10,2),\n",
    "    ehail_fee DECIMAL(10,2),\n",
    "    improvement_surcharge DECIMAL(10,2),\n",
    "    total_amount DECIMAL(10,2),\n",
    "    payment_type_id INT,\n",
    "    trip_type INT,\n",
    "    congestion_surcharge DECIMAL(10,2),\n",
    "    trip_duration_minutes INT,\n",
    "    trip_speed_mph DECIMAL(10,2),\n",
    "    -- Data quality flags\n",
    "    is_valid_trip BOOLEAN,\n",
    "    data_quality_score DECIMAL(3,2),\n",
    "    -- Metadata columns\n",
    "    processing_timestamp TIMESTAMP,\n",
    "    processing_date DATE\n",
    ")\n",
    "USING DELTA\n",
    "PARTITIONED BY (processing_date)\n",
    "LOCATION 'abfss://taxi@hfotaxinyc.dfs.core.windows.net/silver/green_taxi'\n",
    "COMMENT 'Silver layer table for cleaned and validated green taxi trip records';"
   ]
  },
  {
   "cell_type": "markdown",
   "metadata": {},
   "source": [
    "## Verification\n",
    "Check that all objects were created successfully"
   ]
  },
  {
   "cell_type": "code",
   "execution_count": null,
   "metadata": {},
   "outputs": [],
   "source": [
    "%sql\n",
    "SHOW CATALOGS;"
   ]
  },
  {
   "cell_type": "code",
   "execution_count": null,
   "metadata": {},
   "outputs": [],
   "source": [
    "%sql\n",
    "SHOW SCHEMAS IN dev;"
   ]
  },
  {
   "cell_type": "code",
   "execution_count": null,
   "metadata": {},
   "outputs": [],
   "source": [
    "%sql\n",
    "SHOW VOLUMES IN dev.taxi;"
   ]
  },
  {
   "cell_type": "code",
   "execution_count": null,
   "metadata": {},
   "outputs": [],
   "source": [
    "%sql\n",
    "SHOW TABLES IN dev.taxi;"
   ]
  },
  {
   "cell_type": "code",
   "execution_count": null,
   "metadata": {},
   "outputs": [],
   "source": [
    "%sql\n",
    "-- Show table details\n",
    "DESCRIBE EXTENDED dev.taxi.bronze_yellow_taxi;"
   ]
  },
  {
   "cell_type": "code",
   "execution_count": null,
   "metadata": {},
   "outputs": [],
   "source": [
    "%sql\n",
    "-- Show table details\n",
    "DESCRIBE EXTENDED dev.taxi.silver_yellow_taxi;"
   ]
  }
 ],
 "metadata": {
  "application/vnd.databricks.v1+notebook": {
   "computePreferences": null,
   "dashboards": [],
   "environmentMetadata": null,
   "inputWidgetPreferences": null,
   "language": "python",
   "notebookMetadata": {
    "mostRecentlyExecutedCommandWithImplicitDF": {
     "commandId": 5982739159268978,
     "dataframes": [
      "_sqldf"
     ]
    },
    "pythonIndentUnit": 4
   },
   "notebookName": "create_catalogs_schemas",
   "widgets": {}
  },
  "language_info": {
   "name": "python"
  }
 },
 "nbformat": 4,
 "nbformat_minor": 0
}
