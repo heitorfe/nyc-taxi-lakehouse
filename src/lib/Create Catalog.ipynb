{
 "cells": [
  {
   "cell_type": "markdown",
   "metadata": {
    "application/vnd.databricks.v1+cell": {
     "cellMetadata": {},
     "inputWidgets": {},
     "nuid": "218041fb-7fbe-4016-a767-1c8cb447fcfb",
     "showTitle": false,
     "tableResultSettingsMap": {},
     "title": ""
    }
   },
   "source": [
    "## Create  yellow taxi volume"
   ]
  },
  {
   "cell_type": "code",
   "execution_count": 0,
   "metadata": {
    "application/vnd.databricks.v1+cell": {
     "cellMetadata": {
      "byteLimit": 2048000,
      "implicitDf": true,
      "rowLimit": 10000
     },
     "inputWidgets": {},
     "nuid": "8b537620-7ce2-4f70-83da-deeca2ed646d",
     "showTitle": false,
     "tableResultSettingsMap": {},
     "title": ""
    }
   },
   "outputs": [],
   "source": [
    "%sql\n",
    "--Necessário criar o STORAGE CREDENTIAL na UI\n",
    "CREATE EXTERNAL LOCATION IF NOT EXISTS taxi_location URL\n",
    "'abfss://taxi@hfotaxinyc.dfs.core.windows.net/' WITH (STORAGE CREDENTIAL taxi_credential);\n",
    "\n",
    "CREATE CATALOG IF NOT EXISTS raw\n",
    "MANAGED LOCATION 'abfss://taxi@hfotaxinyc.dfs.core.windows.net/source';\n",
    "\n",
    "CREATE SCHEMA IF NOT EXISTS raw.taxi MANAGED LOCATION\n",
    "'abfss://taxi@hfotaxinyc.dfs.core.windows.net/source/';\n",
    "\n",
    "CREATE EXTERNAL VOLUME IF NOT EXISTS raw.taxi.yellow_taxi LOCATION\n",
    "'abfss://taxi@hfotaxinyc.dfs.core.windows.net/source/yellow';"
   ]
  },
  {
   "cell_type": "code",
   "execution_count": 0,
   "metadata": {
    "application/vnd.databricks.v1+cell": {
     "cellMetadata": {
      "byteLimit": 2048000,
      "implicitDf": true,
      "rowLimit": 10000
     },
     "inputWidgets": {},
     "nuid": "f55eca6f-7d4c-44e3-a106-e0177bd67038",
     "showTitle": false,
     "tableResultSettingsMap": {},
     "title": ""
    }
   },
   "outputs": [],
   "source": [
    "%sql\n",
    "CREATE CATALOG IF NOT EXISTS bronze\n",
    "MANAGED LOCATION 'abfss://taxi@hfotaxinyc.dfs.core.windows.net/bronze';\n",
    "\n",
    "CREATE SCHEMA IF NOT EXISTS bronze.taxi MANAGED LOCATION\n",
    "'abfss://taxi@hfotaxinyc.dfs.core.windows.net/bronze/';\n",
    "\n",
    "-- CREATE EXTERNAL VOLUME IF NOT EXISTS bronze.taxi.yellow_taxi LOCATION\n",
    "-- 'abfss://taxi@hfotaxinyc.dfs.core.windows.net/bronze/yellow'"
   ]
  },
  {
   "cell_type": "code",
   "execution_count": 0,
   "metadata": {
    "application/vnd.databricks.v1+cell": {
     "cellMetadata": {
      "byteLimit": 2048000,
      "implicitDf": true,
      "rowLimit": 10000
     },
     "inputWidgets": {},
     "nuid": "c3d67ab8-8696-4500-885a-3eb1b698efbd",
     "showTitle": false,
     "tableResultSettingsMap": {},
     "title": ""
    }
   },
   "outputs": [],
   "source": [
    "%sql\n",
    "CREATE CATALOG IF NOT EXISTS silver\n",
    "MANAGED LOCATION 'abfss://taxi@hfotaxinyc.dfs.core.windows.net/silver';\n",
    "\n",
    "CREATE SCHEMA IF NOT EXISTS silver.taxi MANAGED LOCATION\n",
    "'abfss://taxi@hfotaxinyc.dfs.core.windows.net/silver/';\n",
    "\n",
    "-- CREATE EXTERNAL VOLUME IF NOT EXISTS silver.taxi.yellow_taxi LOCATION\n",
    "-- 'abfss://taxi@hfotaxinyc.dfs.core.windows.net/silver/yellow'"
   ]
  },
  {
   "cell_type": "code",
   "execution_count": 0,
   "metadata": {
    "application/vnd.databricks.v1+cell": {
     "cellMetadata": {
      "byteLimit": 2048000,
      "implicitDf": true,
      "rowLimit": 10000
     },
     "inputWidgets": {},
     "nuid": "d314056d-15ae-4039-b3a9-80664de7df13",
     "showTitle": false,
     "tableResultSettingsMap": {},
     "title": ""
    }
   },
   "outputs": [],
   "source": [
    "%sql\n",
    "CREATE CATALOG IF NOT EXISTS gold\n",
    "MANAGED LOCATION 'abfss://taxi@hfotaxinyc.dfs.core.windows.net/gold';\n",
    "\n",
    "CREATE SCHEMA IF NOT EXISTS gold.taxi MANAGED LOCATION\n",
    "'abfss://taxi@hfotaxinyc.dfs.core.windows.net/gold/';\n",
    "\n",
    "-- CREATE EXTERNAL VOLUME IF NOT EXISTS gold.taxi.yellow_taxi LOCATION\n",
    "-- 'abfss://taxi@hfotaxinyc.dfs.core.windows.net/gold/yellow'"
   ]
  },
  {
   "cell_type": "code",
   "execution_count": 0,
   "metadata": {
    "application/vnd.databricks.v1+cell": {
     "cellMetadata": {
      "byteLimit": 2048000,
      "implicitDf": true,
      "rowLimit": 10000
     },
     "inputWidgets": {},
     "nuid": "4788908f-6fb4-4283-b400-7eeea56478e8",
     "showTitle": false,
     "tableResultSettingsMap": {},
     "title": ""
    }
   },
   "outputs": [],
   "source": [
    "%sql\n",
    "DROP  VOLUME IF EXISTS bronze.taxi.yellow_taxi;\n",
    "DROP  VOLUME IF EXISTS silver.taxi.yellow_taxi;\n",
    "DROP  VOLUME IF EXISTS gold.taxi.yellow_taxi;"
   ]
  },
  {
   "cell_type": "code",
   "execution_count": 0,
   "metadata": {
    "application/vnd.databricks.v1+cell": {
     "cellMetadata": {
      "byteLimit": 2048000,
      "implicitDf": true,
      "rowLimit": 10000
     },
     "inputWidgets": {},
     "nuid": "a862ff8e-502c-496d-be03-2545de5dd401",
     "showTitle": false,
     "tableResultSettingsMap": {},
     "title": ""
    }
   },
   "outputs": [],
   "source": [
    "# %sql\n",
    "# DROP  VOLUME IF EXISTS raw.taxi.yellow_taxi;\n",
    "\n",
    "# DROP SCHEMA IF EXISTS   raw.taxi;\n",
    "# DROP SCHEMA IF EXISTS   raw.default;\n",
    "# DROP CATALOG IF EXISTS raw;\n",
    "# DROP EXTERNAL LOCATION taxi_location;"
   ]
  }
 ],
 "metadata": {
  "application/vnd.databricks.v1+notebook": {
   "computePreferences": null,
   "dashboards": [],
   "environmentMetadata": {
    "base_environment": "",
    "environment_version": "2"
   },
   "inputWidgetPreferences": null,
   "language": "python",
   "notebookMetadata": {
    "mostRecentlyExecutedCommandWithImplicitDF": {
     "commandId": 6287048119533339,
     "dataframes": [
      "_sqldf"
     ]
    },
    "pythonIndentUnit": 4
   },
   "notebookName": "Create Catalog",
   "widgets": {}
  },
  "language_info": {
   "name": "python"
  }
 },
 "nbformat": 4,
 "nbformat_minor": 0
}
